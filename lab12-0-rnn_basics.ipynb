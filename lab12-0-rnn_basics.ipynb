{
 "cells": [
  {
   "cell_type": "code",
   "execution_count": 1,
   "metadata": {
    "collapsed": true
   },
   "outputs": [],
   "source": [
    "# http://www.wildml.com/2016/08/rnns-in-tensorflow-a-practical-guide-and-undocumented-features/\n",
    "# http://learningtensorflow.com/index.html\n",
    "# http://suriyadeepan.github.io/2016-12-31-practical-seq2seq/\n",
    "\n",
    "import tensorflow as tf\n",
    "import numpy as np\n",
    "from tensorflow.contrib import rnn\n",
    "import pprint\n",
    "pp = pprint.PrettyPrinter(indent=4)"
   ]
  },
  {
   "cell_type": "code",
   "execution_count": 2,
   "metadata": {
    "collapsed": false
   },
   "outputs": [
    {
     "name": "stdout",
     "output_type": "stream",
     "text": [
      "5 5\n",
      "array([[[ 0.75732291, -0.13325819, -0.52792329,  0.4675394 , -0.16449949]]], dtype=float32)\n"
     ]
    }
   ],
   "source": [
    "tf.reset_default_graph()\n",
    "sess = tf.InteractiveSession()\n",
    "\n",
    "# One cell RNN input_dim (3) -> output_dim (5)\n",
    "hidden_size = 5\n",
    "cell = tf.contrib.rnn.BasicRNNCell(num_units=hidden_size)\n",
    "print(cell.output_size, cell.state_size)\n",
    "\n",
    "x_data = np.array([[[1, 2, 3]]], dtype=np.float32)\n",
    "outputs, _states = tf.nn.dynamic_rnn(cell, x_data, dtype=tf.float32)\n",
    "\n",
    "sess.run(tf.global_variables_initializer())\n",
    "pp.pprint(outputs.eval())\n",
    "sess.close()"
   ]
  },
  {
   "cell_type": "code",
   "execution_count": 3,
   "metadata": {
    "collapsed": false
   },
   "outputs": [
    {
     "name": "stdout",
     "output_type": "stream",
     "text": [
      "array([[[ 0.93098164,  0.33355391, -0.39505908, -0.96330673,  0.77468497],\n",
      "        [ 0.99974811,  0.76130593, -0.68241394, -0.99999744,  0.97888589]]], dtype=float32)\n"
     ]
    }
   ],
   "source": [
    "tf.reset_default_graph()\n",
    "sess = tf.InteractiveSession()\n",
    "\n",
    "# One cell RNN input_dim (3) -> output_dim (5). sequence: 2\n",
    "hidden_size = 5\n",
    "cell = tf.contrib.rnn.BasicRNNCell(num_units=hidden_size)\n",
    "x_data = np.array([[[1, 2, 3],\n",
    "                    [4, 5, 6]]], dtype=np.float32)\n",
    "outputs, states = tf.nn.dynamic_rnn(cell, x_data, dtype=tf.float32)\n",
    "sess.run(tf.global_variables_initializer())\n",
    "pp.pprint(outputs.eval())\n",
    "sess.close()"
   ]
  },
  {
   "cell_type": "code",
   "execution_count": 4,
   "metadata": {
    "collapsed": false
   },
   "outputs": [
    {
     "name": "stdout",
     "output_type": "stream",
     "text": [
      "array([[[ -2.28231046e-02,  -2.78009206e-01,  -2.17054889e-01,\n",
      "          -1.07388906e-01,  -3.30501080e-01],\n",
      "        [  0.00000000e+00,   0.00000000e+00,   0.00000000e+00,\n",
      "           0.00000000e+00,   0.00000000e+00]],\n",
      "\n",
      "       [[ -6.72279019e-03,  -2.42554191e-02,  -7.11063087e-01,\n",
      "          -2.40728557e-01,  -6.72493994e-01],\n",
      "        [ -1.63571001e-03,  -1.13375830e-02,  -9.30618346e-01,\n",
      "          -2.49628484e-01,  -8.40059042e-01]],\n",
      "\n",
      "       [[ -3.34159529e-04,  -1.14610826e-03,  -7.57456303e-01,\n",
      "          -1.53216466e-01,  -7.46558070e-01],\n",
      "        [  0.00000000e+00,   0.00000000e+00,   0.00000000e+00,\n",
      "           0.00000000e+00,   0.00000000e+00]]], dtype=float32)\n"
     ]
    }
   ],
   "source": [
    "tf.reset_default_graph()\n",
    "sess = tf.InteractiveSession()\n",
    "# One cell RNN input_dim (3) -> output_dim (5). sequence: 2\n",
    "cell = rnn.BasicLSTMCell(num_units=5, state_is_tuple=True)\n",
    "x_data = np.array([[[1, 2, 3],\n",
    "                    [4, 5, 6]],\n",
    "\n",
    "                   [[7, 8, 9],\n",
    "                    [10, 11, 12]],\n",
    "\n",
    "                   [[13, 14, 15],\n",
    "                    [16, 17, 18]], ], dtype=np.float32)\n",
    "outputs, _states = tf.nn.dynamic_rnn(\n",
    "    cell, x_data, sequence_length=[1,2,1], dtype=tf.float32)\n",
    "sess.run(tf.global_variables_initializer())\n",
    "pp.pprint(outputs.eval())\n",
    "sess.close()"
   ]
  },
  {
   "cell_type": "code",
   "execution_count": 5,
   "metadata": {
    "collapsed": false
   },
   "outputs": [
    {
     "name": "stdout",
     "output_type": "stream",
     "text": [
      "array([[[ -9.06838924e-02,   2.69779898e-02,  -4.16334607e-02,\n",
      "           3.73940505e-02,  -7.32717663e-02],\n",
      "        [ -6.04101196e-02,   1.83868650e-02,  -2.40339916e-02,\n",
      "           9.85701606e-02,  -1.32940169e-02]],\n",
      "\n",
      "       [[ -1.27240922e-02,   2.60907982e-04,  -7.46334917e-05,\n",
      "           4.22762781e-02,  -1.22250535e-03],\n",
      "        [ -4.69082315e-03,   7.36236761e-05,  -3.77873548e-05,\n",
      "           1.57461427e-02,  -1.51262691e-04]],\n",
      "\n",
      "       [[ -8.47805117e-04,   1.24200938e-06,  -7.01261698e-08,\n",
      "           5.31122321e-03,  -1.42158951e-05],\n",
      "        [ -2.73798796e-04,   1.51486347e-07,  -3.42364359e-08,\n",
      "           1.81897194e-03,  -1.57338479e-06]]], dtype=float32)\n"
     ]
    }
   ],
   "source": [
    "tf.reset_default_graph()\n",
    "sess = tf.InteractiveSession()\n",
    "# One cell RNN input_dim (3) -> output_dim (5). sequence: 2\n",
    "\n",
    "batch_size = 3\n",
    "cell = rnn.BasicLSTMCell(num_units=5, state_is_tuple=True)\n",
    "initial_state = cell.zero_state(batch_size, tf.float32)\n",
    "\n",
    "x_data = np.array([[[1, 2, 3],\n",
    "                    [4, 5, 6]],\n",
    "\n",
    "                   [[7, 8, 9],\n",
    "                    [10, 11, 12]],\n",
    "\n",
    "                   [[13, 14, 15],\n",
    "                    [16, 17, 18]], ], dtype=np.float32)\n",
    "outputs, _states = tf.nn.dynamic_rnn(cell, x_data,\n",
    "                                     initial_state=initial_state, dtype=tf.float32)\n",
    "sess.run(tf.global_variables_initializer())\n",
    "pp.pprint(outputs.eval())\n",
    "sess.close()"
   ]
  },
  {
   "cell_type": "code",
   "execution_count": 6,
   "metadata": {
    "collapsed": false
   },
   "outputs": [
    {
     "name": "stdout",
     "output_type": "stream",
     "text": [
      "array([[[  0.,   1.,   2.],\n",
      "        [  3.,   4.,   5.],\n",
      "        [  6.,   7.,   8.],\n",
      "        [  9.,  10.,  11.]],\n",
      "\n",
      "       [[ 12.,  13.,  14.],\n",
      "        [ 15.,  16.,  17.],\n",
      "        [ 18.,  19.,  20.],\n",
      "        [ 21.,  22.,  23.]]], dtype=float32)\n",
      "dynamic rnn:  Tensor(\"rnn/transpose:0\", shape=(2, 4, 5), dtype=float32)\n",
      "array([[[-0.00518472,  0.0035151 , -0.00511228, -0.00444861,  0.00375908],\n",
      "        [-0.01759234,  0.0091941 , -0.01396412, -0.01754779,  0.01152858],\n",
      "        [-0.03402757,  0.01297162, -0.02286568, -0.03665255,  0.02295469],\n",
      "        [-0.05056015,  0.01167784, -0.02843066, -0.05681353,  0.03636513]],\n",
      "\n",
      "       [[-0.00779046, -0.00297874,  0.00117829, -0.00724645, -0.00128889],\n",
      "        [-0.02054391, -0.00929413,  0.00216497, -0.01936657, -0.00098175],\n",
      "        [-0.03492529, -0.01857489,  0.00275036, -0.0331241 ,  0.00198329],\n",
      "        [-0.04897475, -0.02997419,  0.00287493, -0.04629733,  0.00759039]]], dtype=float32)\n",
      "dynamic rnn:  Tensor(\"rnn_1/transpose:0\", shape=(2, 4, 5), dtype=float32)\n",
      "array([[[  2.27584556e-01,   5.15196249e-02,  -1.77082598e-01,\n",
      "          -6.65117800e-02,  -1.29661202e-01],\n",
      "        [  0.00000000e+00,   0.00000000e+00,   0.00000000e+00,\n",
      "           0.00000000e+00,   0.00000000e+00],\n",
      "        [  0.00000000e+00,   0.00000000e+00,   0.00000000e+00,\n",
      "           0.00000000e+00,   0.00000000e+00],\n",
      "        [  0.00000000e+00,   0.00000000e+00,   0.00000000e+00,\n",
      "           0.00000000e+00,   0.00000000e+00]],\n",
      "\n",
      "       [[  2.89680194e-02,  -2.34880358e-01,  -4.22235535e-05,\n",
      "           3.23071572e-06,  -2.65529932e-04],\n",
      "        [  4.12228890e-02,  -4.54263657e-01,  -4.65316771e-06,\n",
      "           2.35047125e-07,  -2.75485625e-04],\n",
      "        [  0.00000000e+00,   0.00000000e+00,   0.00000000e+00,\n",
      "           0.00000000e+00,   0.00000000e+00],\n",
      "        [  0.00000000e+00,   0.00000000e+00,   0.00000000e+00,\n",
      "           0.00000000e+00,   0.00000000e+00]]], dtype=float32)\n"
     ]
    }
   ],
   "source": [
    "tf.reset_default_graph()\n",
    "sess = tf.InteractiveSession()\n",
    "# Create input data\n",
    "x_data = np.arange(24, dtype=np.float32).reshape(2, 4, 3)\n",
    "pp.pprint(x_data)  # batch, sequence_length, input size\n",
    "\n",
    "# Make rnn\n",
    "cell = rnn.BasicLSTMCell(num_units=5, state_is_tuple=True)\n",
    "cell = rnn.MultiRNNCell([cell] * 3, state_is_tuple=True)\n",
    "\n",
    "# rnn in/out\n",
    "outputs, _states = tf.nn.dynamic_rnn(cell, x_data, dtype=tf.float32)\n",
    "print(\"dynamic rnn: \", outputs)\n",
    "sess.run(tf.global_variables_initializer())\n",
    "pp.pprint(outputs.eval())  # batch size, unrolling (time), hidden_size\n",
    "\n",
    "cell = rnn.BasicLSTMCell(num_units=5, state_is_tuple=True)\n",
    "outputs, _states = tf.nn.dynamic_rnn(cell, x_data, dtype=tf.float32,\n",
    "                                     sequence_length=[1, 2])\n",
    "print(\"dynamic rnn: \", outputs)\n",
    "sess.run(tf.global_variables_initializer())\n",
    "pp.pprint(outputs.eval())  # batch size, unrolling (time), hidden_size\n",
    "sess.close()"
   ]
  },
  {
   "cell_type": "code",
   "execution_count": 7,
   "metadata": {
    "collapsed": false
   },
   "outputs": [
    {
     "name": "stdout",
     "output_type": "stream",
     "text": [
      "(   array([[[  2.95027614e-01,  -2.23175213e-01,  -1.49507802e-02,\n",
      "           1.31392568e-01,  -2.29365360e-02],\n",
      "        [  6.17041051e-01,  -5.78767538e-01,  -5.69266118e-02,\n",
      "           1.85829490e-01,   1.03869941e-03],\n",
      "        [  0.00000000e+00,   0.00000000e+00,   0.00000000e+00,\n",
      "           0.00000000e+00,   0.00000000e+00],\n",
      "        [  0.00000000e+00,   0.00000000e+00,   0.00000000e+00,\n",
      "           0.00000000e+00,   0.00000000e+00]],\n",
      "\n",
      "       [[  2.77294833e-02,  -6.30361289e-02,  -5.74521348e-03,\n",
      "           1.45536178e-05,   2.89994802e-07],\n",
      "        [  3.79111692e-02,  -9.33482647e-02,  -7.62500660e-03,\n",
      "           1.57816248e-05,   2.75642869e-08],\n",
      "        [  4.16267812e-02,  -1.07555307e-01,  -8.18355009e-03,\n",
      "           1.58844177e-05,   2.06733497e-09],\n",
      "        [  0.00000000e+00,   0.00000000e+00,   0.00000000e+00,\n",
      "           0.00000000e+00,   0.00000000e+00]]], dtype=float32),\n",
      "    array([[[  2.34663486e-01,   2.69046277e-02,  -2.62851357e-01,\n",
      "           1.79598570e-01,  -3.48139733e-01],\n",
      "        [  1.34048015e-01,   8.66818335e-03,  -5.98598793e-02,\n",
      "           1.34186000e-01,  -2.26086393e-01],\n",
      "        [  0.00000000e+00,   0.00000000e+00,   0.00000000e+00,\n",
      "           0.00000000e+00,   0.00000000e+00],\n",
      "        [  0.00000000e+00,   0.00000000e+00,   0.00000000e+00,\n",
      "           0.00000000e+00,   0.00000000e+00]],\n",
      "\n",
      "       [[  2.88680177e-02,   9.99640542e-06,  -6.21978019e-04,\n",
      "           7.01830536e-02,  -1.12377472e-01],\n",
      "        [  1.25559513e-02,   8.37665368e-07,  -9.61715123e-05,\n",
      "           4.90164421e-02,  -7.20945522e-02],\n",
      "        [  4.36697342e-03,   6.80889300e-08,  -1.19728602e-05,\n",
      "           3.36558074e-02,  -3.72306816e-02],\n",
      "        [  0.00000000e+00,   0.00000000e+00,   0.00000000e+00,\n",
      "           0.00000000e+00,   0.00000000e+00]]], dtype=float32))\n",
      "(   LSTMStateTuple(c=array([[  7.66343415e-01,  -6.81165218e-01,  -8.20534974e-02,\n",
      "          1.91275686e-01,   4.33926508e-02],\n",
      "       [  4.16508801e-02,  -1.07972950e-01,  -8.22918490e-03,\n",
      "          1.58844196e-05,   5.93203269e-02]], dtype=float32), h=array([[  6.17041051e-01,  -5.78767538e-01,  -5.69266118e-02,\n",
      "          1.85829490e-01,   1.03869941e-03],\n",
      "       [  4.16267812e-02,  -1.07555307e-01,  -8.18355009e-03,\n",
      "          1.58844177e-05,   2.06733497e-09]], dtype=float32)),\n",
      "    LSTMStateTuple(c=array([[  6.16461813e-01,   5.27054705e-02,  -5.93008995e-01,\n",
      "          3.80172133e-01,  -1.08922493e+00],\n",
      "       [  2.67247152e+00,   4.52394634e-05,  -2.60891318e+00,\n",
      "          4.95122761e-01,  -2.76550555e+00]], dtype=float32), h=array([[  2.34663486e-01,   2.69046277e-02,  -2.62851357e-01,\n",
      "          1.79598570e-01,  -3.48139733e-01],\n",
      "       [  2.88680177e-02,   9.99640542e-06,  -6.21978019e-04,\n",
      "          7.01830536e-02,  -1.12377472e-01]], dtype=float32)))\n",
      "array([[  0.,   1.,   2.],\n",
      "       [  3.,   4.,   5.],\n",
      "       [  6.,   7.,   8.],\n",
      "       [  9.,  10.,  11.]], dtype=float32)\n",
      "array([[[   0.,    1.,    4.],\n",
      "        [   9.,   16.,   25.],\n",
      "        [  36.,   49.,   64.],\n",
      "        [  81.,  100.,  121.]],\n",
      "\n",
      "       [[   0.,   13.,   28.],\n",
      "        [  45.,   64.,   85.],\n",
      "        [ 108.,  133.,  160.],\n",
      "        [ 189.,  220.,  253.]]], dtype=float32)\n",
      "array([[[   1.,    3.,    7.],\n",
      "        [  10.,   18.,   28.],\n",
      "        [  37.,   51.,   67.],\n",
      "        [  82.,  102.,  124.]],\n",
      "\n",
      "       [[   1.,   15.,   31.],\n",
      "        [  46.,   66.,   88.],\n",
      "        [ 109.,  135.,  163.],\n",
      "        [ 190.,  222.,  256.]]])\n"
     ]
    }
   ],
   "source": [
    "tf.reset_default_graph()\n",
    "sess = tf.InteractiveSession()\n",
    "# bi-directional rnn\n",
    "cell_fw = rnn.BasicLSTMCell(num_units=5, state_is_tuple=True)\n",
    "cell_bw = rnn.BasicLSTMCell(num_units=5, state_is_tuple=True)\n",
    "\n",
    "outputs, states = tf.nn.bidirectional_dynamic_rnn(cell_fw, cell_bw, x_data,\n",
    "                                                  sequence_length=[2, 3],\n",
    "                                                  dtype=tf.float32)\n",
    "\n",
    "sess.run(tf.global_variables_initializer())\n",
    "pp.pprint(sess.run(outputs))\n",
    "pp.pprint(sess.run(states))\n",
    "\n",
    "# Broadcasting based softmax\n",
    "softmax_w = np.arange(12, dtype=np.float32).reshape(4, 3)\n",
    "outputs = x_data * softmax_w\n",
    "pp.pprint(softmax_w)\n",
    "pp.pprint(outputs)\n",
    "outputs = x_data * softmax_w + [1, 2, 3]\n",
    "pp.pprint(outputs)"
   ]
  },
  {
   "cell_type": "code",
   "execution_count": 8,
   "metadata": {
    "collapsed": false
   },
   "outputs": [
    {
     "name": "stdout",
     "output_type": "stream",
     "text": [
      "Loss1:  0.313262 Loss2:  1.31326 Loss3:  0.646595\n"
     ]
    }
   ],
   "source": [
    "# [batch_size, sequence_length, emb_dim ]\n",
    "prediction1 = tf.constant([[[0, 1], [0, 1], [0, 1]]], dtype=tf.float32)\n",
    "prediction2 = tf.constant([[[1, 0], [1, 0], [1, 0]]], dtype=tf.float32)\n",
    "prediction3 = tf.constant([[[0, 1], [1, 0], [0, 1]]], dtype=tf.float32)\n",
    "\n",
    "# [batch_size, sequence_length]\n",
    "y_data = tf.constant([[1, 1, 1]])\n",
    "\n",
    "# [batch_size * sequence_length]\n",
    "weights = tf.constant([[1, 1, 1]], dtype=tf.float32)\n",
    "\n",
    "sequence_loss1 = tf.contrib.seq2seq.sequence_loss(prediction1, y_data, weights)\n",
    "sequence_loss2 = tf.contrib.seq2seq.sequence_loss(prediction2, y_data, weights)\n",
    "sequence_loss3 = tf.contrib.seq2seq.sequence_loss(prediction3, y_data, weights)\n",
    "\n",
    "sess.run(tf.global_variables_initializer())\n",
    "print(\"Loss1: \", sequence_loss1.eval(),\n",
    "      \"Loss2: \", sequence_loss2.eval(),\n",
    "      \"Loss3: \", sequence_loss3.eval())"
   ]
  }
 ],
 "metadata": {
  "kernelspec": {
   "display_name": "Python 3",
   "language": "python",
   "name": "python3"
  },
  "language_info": {
   "codemirror_mode": {
    "name": "ipython",
    "version": 3
   },
   "file_extension": ".py",
   "mimetype": "text/x-python",
   "name": "python",
   "nbconvert_exporter": "python",
   "pygments_lexer": "ipython3",
   "version": "3.6.0"
  }
 },
 "nbformat": 4,
 "nbformat_minor": 2
}
