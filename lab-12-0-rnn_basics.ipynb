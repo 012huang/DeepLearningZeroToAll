{
 "cells": [
  {
   "cell_type": "code",
   "execution_count": 1,
   "metadata": {
    "collapsed": true
   },
   "outputs": [],
   "source": [
    "# http://www.wildml.com/2016/08/rnns-in-tensorflow-a-practical-guide-and-undocumented-features/\n",
    "# http://learningtensorflow.com/index.html\n",
    "# http://suriyadeepan.github.io/2016-12-31-practical-seq2seq/\n",
    "\n",
    "import tensorflow as tf\n",
    "import numpy as np\n",
    "from tensorflow.contrib import rnn\n",
    "import pprint\n",
    "pp = pprint.PrettyPrinter(indent=4)\n",
    "sess = tf.InteractiveSession()"
   ]
  },
  {
   "cell_type": "code",
   "execution_count": 2,
   "metadata": {
    "collapsed": false
   },
   "outputs": [
    {
     "name": "stdout",
     "output_type": "stream",
     "text": [
      "5 5\n",
      "array([[[-0.04824175, -0.11266616, -0.59395987,  0.99640656, -0.66602409]]], dtype=float32)\n"
     ]
    }
   ],
   "source": [
    "with tf.variable_scope('one_cell') as scope:\n",
    "    # One cell RNN input_dim (3) -> output_dim (5)\n",
    "    hidden_size = 5\n",
    "    cell = tf.contrib.rnn.BasicRNNCell(num_units=hidden_size)\n",
    "    print(cell.output_size, cell.state_size)\n",
    "\n",
    "    x_data = np.array([[[1, 2, 3]]], dtype=np.float32)\n",
    "    outputs, _states = tf.nn.dynamic_rnn(cell, x_data, dtype=tf.float32)\n",
    "\n",
    "    sess.run(tf.global_variables_initializer())\n",
    "    pp.pprint(outputs.eval())"
   ]
  },
  {
   "cell_type": "code",
   "execution_count": 3,
   "metadata": {
    "collapsed": false
   },
   "outputs": [
    {
     "name": "stdout",
     "output_type": "stream",
     "text": [
      "array([[[-0.11753262,  0.82967931,  0.92287099, -0.94706255,  0.99342507],\n",
      "        [-0.44019806,  0.9612658 ,  0.98902148, -0.99947858,  0.9999997 ]]], dtype=float32)\n"
     ]
    }
   ],
   "source": [
    "with tf.variable_scope('two_sequances') as scope:\n",
    "    # One cell RNN input_dim (3) -> output_dim (5). sequence: 2\n",
    "    hidden_size = 5\n",
    "    cell = tf.contrib.rnn.BasicRNNCell(num_units=hidden_size)\n",
    "    x_data = np.array([[[1, 2, 3],\n",
    "                        [4, 5, 6]]], dtype=np.float32)\n",
    "    outputs, states = tf.nn.dynamic_rnn(cell, x_data, dtype=tf.float32)\n",
    "    sess.run(tf.global_variables_initializer())\n",
    "    pp.pprint(outputs.eval())"
   ]
  },
  {
   "cell_type": "code",
   "execution_count": 4,
   "metadata": {
    "collapsed": false
   },
   "outputs": [
    {
     "name": "stdout",
     "output_type": "stream",
     "text": [
      "array([[[ -9.24924016e-02,   1.47779593e-02,   1.73619956e-01,\n",
      "          -4.51426417e-01,  -3.30132879e-02],\n",
      "        [  0.00000000e+00,   0.00000000e+00,   0.00000000e+00,\n",
      "           0.00000000e+00,   0.00000000e+00]],\n",
      "\n",
      "       [[ -2.11092457e-03,   1.20736848e-04,   3.24320495e-02,\n",
      "          -7.11563170e-01,  -1.55489382e-04],\n",
      "        [ -1.72451473e-04,   1.67748312e-05,   1.05808750e-02,\n",
      "          -9.04355943e-01,  -1.40012504e-04]],\n",
      "\n",
      "       [[ -2.60747729e-05,   5.85509952e-07,   2.34753476e-03,\n",
      "          -7.55022943e-01,  -5.58087777e-07],\n",
      "        [  0.00000000e+00,   0.00000000e+00,   0.00000000e+00,\n",
      "           0.00000000e+00,   0.00000000e+00]]], dtype=float32)\n"
     ]
    }
   ],
   "source": [
    "with tf.variable_scope('3_batches') as scope:\n",
    "    # One cell RNN input_dim (3) -> output_dim (5). sequence: 2\n",
    "    cell = rnn.BasicLSTMCell(num_units=5, state_is_tuple=True)\n",
    "    x_data = np.array([[[1, 2, 3],\n",
    "                        [4, 5, 6]],\n",
    "\n",
    "                       [[7, 8, 9],\n",
    "                        [10, 11, 12]],\n",
    "\n",
    "                       [[13, 14, 15],\n",
    "                        [16, 17, 18]], ], dtype=np.float32)\n",
    "    outputs, _states = tf.nn.dynamic_rnn(\n",
    "        cell, x_data, sequence_length=[1,2,1], dtype=tf.float32)\n",
    "    sess.run(tf.global_variables_initializer())\n",
    "    pp.pprint(outputs.eval())"
   ]
  },
  {
   "cell_type": "code",
   "execution_count": 5,
   "metadata": {
    "collapsed": false
   },
   "outputs": [
    {
     "name": "stdout",
     "output_type": "stream",
     "text": [
      "array([[[  1.20581007e-02,   9.10249818e-03,  -5.73653318e-02,\n",
      "          -2.28022784e-01,   1.06247095e-02],\n",
      "        [  1.96108937e-01,   4.87912744e-02,  -1.93600245e-02,\n",
      "          -4.58395869e-01,  -7.03926757e-02]],\n",
      "\n",
      "       [[  1.33064032e-01,   1.99696813e-02,  -7.78979913e-04,\n",
      "          -5.71957648e-01,  -1.44965827e-01],\n",
      "        [  2.38348722e-01,   1.22230034e-02,  -7.75410153e-05,\n",
      "          -5.95831394e-01,  -1.84057772e-01]],\n",
      "\n",
      "       [[  5.16901910e-02,   1.88314938e-03,  -6.19996081e-06,\n",
      "          -6.81139827e-01,  -1.17535137e-01],\n",
      "        [  8.82856771e-02,   7.83236872e-04,  -5.80701567e-07,\n",
      "          -6.80091798e-01,  -1.14115342e-01]]], dtype=float32)\n"
     ]
    }
   ],
   "source": [
    "with tf.variable_scope('initial_state') as scope:\n",
    "    # One cell RNN input_dim (3) -> output_dim (5). sequence: 2\n",
    "    batch_size = 3\n",
    "    cell = rnn.BasicLSTMCell(num_units=5, state_is_tuple=True)\n",
    "    initial_state = cell.zero_state(batch_size, tf.float32)\n",
    "\n",
    "    x_data = np.array([[[1, 2, 3],\n",
    "                        [4, 5, 6]],\n",
    "\n",
    "                       [[7, 8, 9],\n",
    "                        [10, 11, 12]],\n",
    "\n",
    "                       [[13, 14, 15],\n",
    "                        [16, 17, 18]], ], dtype=np.float32)\n",
    "    outputs, _states = tf.nn.dynamic_rnn(cell, x_data,\n",
    "                                         initial_state=initial_state, dtype=tf.float32)\n",
    "    sess.run(tf.global_variables_initializer())\n",
    "    pp.pprint(outputs.eval())"
   ]
  },
  {
   "cell_type": "code",
   "execution_count": 6,
   "metadata": {
    "collapsed": false
   },
   "outputs": [
    {
     "name": "stdout",
     "output_type": "stream",
     "text": [
      "array([[[  0.,   1.,   2.],\n",
      "        [  3.,   4.,   5.],\n",
      "        [  6.,   7.,   8.],\n",
      "        [  9.,  10.,  11.]],\n",
      "\n",
      "       [[ 12.,  13.,  14.],\n",
      "        [ 15.,  16.,  17.],\n",
      "        [ 18.,  19.,  20.],\n",
      "        [ 21.,  22.,  23.]]], dtype=float32)\n"
     ]
    }
   ],
   "source": [
    "# Create input data\n",
    "x_data = np.arange(24, dtype=np.float32).reshape(2, 4, 3)\n",
    "pp.pprint(x_data)  # batch, sequence_length, input size"
   ]
  },
  {
   "cell_type": "code",
   "execution_count": 7,
   "metadata": {
    "collapsed": false
   },
   "outputs": [
    {
     "name": "stdout",
     "output_type": "stream",
     "text": [
      "dynamic rnn:  Tensor(\"MultiRNNCell/rnn/transpose:0\", shape=(2, 4, 5), dtype=float32)\n",
      "array([[[-0.00159773, -0.00278636,  0.00216246,  0.00038013, -0.00024984],\n",
      "        [-0.00624782, -0.00809411,  0.00787236,  0.0043    , -0.00170721],\n",
      "        [-0.01344065, -0.01426034,  0.01710082,  0.01179738, -0.00482255],\n",
      "        [-0.02229064, -0.0205432 ,  0.02860553,  0.02171124, -0.00901885]],\n",
      "\n",
      "       [[-0.00217091, -0.00350074,  0.00534471,  0.00142277, -0.003283  ],\n",
      "        [-0.0062384 , -0.00876253,  0.01459183,  0.00550701, -0.00811026],\n",
      "        [-0.01145217, -0.01450423,  0.02608694,  0.01158843, -0.01365107],\n",
      "        [-0.01722418, -0.02011818,  0.038624  ,  0.01883249, -0.01951919]]], dtype=float32)\n"
     ]
    }
   ],
   "source": [
    "with tf.variable_scope('MultiRNNCell') as scope:\n",
    "    # Make rnn\n",
    "    cell = rnn.BasicLSTMCell(num_units=5, state_is_tuple=True)\n",
    "    cell = rnn.MultiRNNCell([cell] * 3, state_is_tuple=True)\n",
    "\n",
    "    # rnn in/out\n",
    "    outputs, _states = tf.nn.dynamic_rnn(cell, x_data, dtype=tf.float32)\n",
    "    print(\"dynamic rnn: \", outputs)\n",
    "    sess.run(tf.global_variables_initializer())\n",
    "    pp.pprint(outputs.eval())  # batch size, unrolling (time), hidden_size"
   ]
  },
  {
   "cell_type": "code",
   "execution_count": 8,
   "metadata": {
    "collapsed": false
   },
   "outputs": [
    {
     "name": "stdout",
     "output_type": "stream",
     "text": [
      "dynamic rnn:  Tensor(\"dynamic_rnn/rnn/transpose:0\", shape=(2, 4, 5), dtype=float32)\n",
      "array([[[  1.55049935e-01,  -8.28458890e-02,  -1.36540994e-01,\n",
      "          -2.43278760e-02,   1.60975546e-01],\n",
      "        [  0.00000000e+00,   0.00000000e+00,   0.00000000e+00,\n",
      "           0.00000000e+00,   0.00000000e+00],\n",
      "        [  0.00000000e+00,   0.00000000e+00,   0.00000000e+00,\n",
      "           0.00000000e+00,   0.00000000e+00],\n",
      "        [  0.00000000e+00,   0.00000000e+00,   0.00000000e+00,\n",
      "           0.00000000e+00,   0.00000000e+00]],\n",
      "\n",
      "       [[  6.44681007e-02,  -4.09913715e-03,  -4.74524111e-01,\n",
      "           2.25839461e-03,   5.23494780e-01],\n",
      "        [  1.16558671e-01,  -1.04439410e-03,  -7.71331191e-01,\n",
      "           8.13173072e-04,   8.47356856e-01],\n",
      "        [  1.55143157e-01,  -2.68030766e-04,  -9.02186215e-01,\n",
      "           3.48752073e-04,   9.62113023e-01],\n",
      "        [  0.00000000e+00,   0.00000000e+00,   0.00000000e+00,\n",
      "           0.00000000e+00,   0.00000000e+00]]], dtype=float32)\n"
     ]
    }
   ],
   "source": [
    "with tf.variable_scope('dynamic_rnn') as scope:\n",
    "    cell = rnn.BasicLSTMCell(num_units=5, state_is_tuple=True)\n",
    "    outputs, _states = tf.nn.dynamic_rnn(cell, x_data, dtype=tf.float32,\n",
    "                                         sequence_length=[1, 3]) # lentgh 1 for batch 1, lentgh 2 for batch 2\n",
    "    print(\"dynamic rnn: \", outputs)\n",
    "    sess.run(tf.global_variables_initializer())\n",
    "    pp.pprint(outputs.eval())  # batch size, unrolling (time), hidden_size"
   ]
  },
  {
   "cell_type": "code",
   "execution_count": 9,
   "metadata": {
    "collapsed": false
   },
   "outputs": [
    {
     "name": "stdout",
     "output_type": "stream",
     "text": [
      "(   array([[[  4.45090048e-02,  -5.48573909e-03,   1.76832363e-01,\n",
      "          -6.30143331e-03,   8.78377333e-02],\n",
      "        [ -1.48050860e-01,  -9.71930625e-04,   4.88166243e-01,\n",
      "           1.77669868e-01,   4.02208827e-02],\n",
      "        [  0.00000000e+00,   0.00000000e+00,   0.00000000e+00,\n",
      "           0.00000000e+00,   0.00000000e+00],\n",
      "        [  0.00000000e+00,   0.00000000e+00,   0.00000000e+00,\n",
      "           0.00000000e+00,   0.00000000e+00]],\n",
      "\n",
      "       [[ -1.47792948e-02,  -1.10883569e-08,   5.36434472e-01,\n",
      "           1.19788200e-01,   2.63353104e-06],\n",
      "        [ -8.44009034e-03,  -1.02014619e-09,   8.31147254e-01,\n",
      "           1.08465023e-01,   1.45638040e-07],\n",
      "        [ -3.89013323e-03,  -1.10596886e-10,   9.46177483e-01,\n",
      "           7.38197416e-02,   7.62108421e-09],\n",
      "        [  0.00000000e+00,   0.00000000e+00,   0.00000000e+00,\n",
      "           0.00000000e+00,   0.00000000e+00]]], dtype=float32),\n",
      "    array([[[ -3.23204733e-02,  -4.90211964e-01,   2.18950495e-01,\n",
      "          -3.21291387e-01,   1.23527162e-01],\n",
      "        [ -5.38012991e-03,  -5.11050522e-01,   1.21017464e-01,\n",
      "          -2.43347496e-01,   1.47201996e-02],\n",
      "        [  0.00000000e+00,   0.00000000e+00,   0.00000000e+00,\n",
      "           0.00000000e+00,   0.00000000e+00],\n",
      "        [  0.00000000e+00,   0.00000000e+00,   0.00000000e+00,\n",
      "           0.00000000e+00,   0.00000000e+00]],\n",
      "\n",
      "       [[  1.25866393e-06,  -9.94447768e-01,   1.79808959e-02,\n",
      "          -7.70908415e-01,  -1.87044188e-05],\n",
      "        [  5.34545137e-08,  -9.62274730e-01,   8.88943300e-03,\n",
      "          -6.21487617e-01,  -3.74239767e-06],\n",
      "        [ -1.88121074e-09,  -7.57771075e-01,   4.22352366e-03,\n",
      "          -3.46370369e-01,  -5.74246997e-07],\n",
      "        [  0.00000000e+00,   0.00000000e+00,   0.00000000e+00,\n",
      "           0.00000000e+00,   0.00000000e+00]]], dtype=float32))\n",
      "(   LSTMStateTuple(c=array([[ -7.79454410e-01,  -1.55422129e-02,   7.31548727e-01,\n",
      "          1.87914044e-01,   1.74398974e-01],\n",
      "       [ -2.79949379e+00,  -2.41239013e-05,   1.81525278e+00,\n",
      "          7.39543140e-02,   1.22194501e-06]], dtype=float32), h=array([[ -1.48050860e-01,  -9.71930625e-04,   4.88166243e-01,\n",
      "          1.77669868e-01,   4.02208827e-02],\n",
      "       [ -3.89013323e-03,  -1.10596886e-10,   9.46177483e-01,\n",
      "          7.38197416e-02,   7.62108421e-09]], dtype=float32)),\n",
      "    LSTMStateTuple(c=array([[ -7.40298331e-02,  -8.43536377e-01,   8.64924848e-01,\n",
      "         -5.29330730e-01,   2.28457481e-01],\n",
      "       [  7.39789248e-05,  -2.94868517e+00,   1.64265728e+00,\n",
      "         -1.14800954e+00,  -2.38284156e-05]], dtype=float32), h=array([[ -3.23204733e-02,  -4.90211964e-01,   2.18950495e-01,\n",
      "         -3.21291387e-01,   1.23527162e-01],\n",
      "       [  1.25866393e-06,  -9.94447768e-01,   1.79808959e-02,\n",
      "         -7.70908415e-01,  -1.87044188e-05]], dtype=float32)))\n"
     ]
    }
   ],
   "source": [
    "with tf.variable_scope('bi-directional') as scope:\n",
    "    # bi-directional rnn\n",
    "    cell_fw = rnn.BasicLSTMCell(num_units=5, state_is_tuple=True)\n",
    "    cell_bw = rnn.BasicLSTMCell(num_units=5, state_is_tuple=True)\n",
    "\n",
    "    outputs, states = tf.nn.bidirectional_dynamic_rnn(cell_fw, cell_bw, x_data,\n",
    "                                                      sequence_length=[2, 3],\n",
    "                                                      dtype=tf.float32)\n",
    "\n",
    "    sess.run(tf.global_variables_initializer())\n",
    "    pp.pprint(sess.run(outputs))\n",
    "    pp.pprint(sess.run(states))"
   ]
  },
  {
   "cell_type": "code",
   "execution_count": 10,
   "metadata": {
    "collapsed": false
   },
   "outputs": [
    {
     "name": "stdout",
     "output_type": "stream",
     "text": [
      "array([[[  0.,   1.,   2.],\n",
      "        [  3.,   4.,   5.],\n",
      "        [  6.,   7.,   8.],\n",
      "        [  9.,  10.,  11.]],\n",
      "\n",
      "       [[ 12.,  13.,  14.],\n",
      "        [ 15.,  16.,  17.],\n",
      "        [ 18.,  19.,  20.],\n",
      "        [ 21.,  22.,  23.]]], dtype=float32)\n",
      "array([[  0.,   1.,   2.],\n",
      "       [  3.,   4.,   5.],\n",
      "       [  6.,   7.,   8.],\n",
      "       [  9.,  10.,  11.],\n",
      "       [ 12.,  13.,  14.],\n",
      "       [ 15.,  16.,  17.],\n",
      "       [ 18.,  19.,  20.],\n",
      "       [ 21.,  22.,  23.]], dtype=float32)\n",
      "array([[[  25.,   28.,   31.,   34.,   37.],\n",
      "        [  70.,   82.,   94.,  106.,  118.],\n",
      "        [ 115.,  136.,  157.,  178.,  199.],\n",
      "        [ 160.,  190.,  220.,  250.,  280.]],\n",
      "\n",
      "       [[ 205.,  244.,  283.,  322.,  361.],\n",
      "        [ 250.,  298.,  346.,  394.,  442.],\n",
      "        [ 295.,  352.,  409.,  466.,  523.],\n",
      "        [ 340.,  406.,  472.,  538.,  604.]]], dtype=float32)\n"
     ]
    }
   ],
   "source": [
    "# flattern based softmax\n",
    "hidden_size=3\n",
    "sequence_length=4\n",
    "batch_size=2\n",
    "num_classes=5\n",
    "\n",
    "pp.pprint(x_data) # hidden_size=3, sequence_length=4, batch_size=2\n",
    "x_data = x_data.reshape(-1, hidden_size)\n",
    "pp.pprint(x_data)\n",
    "\n",
    "softmax_w = np.arange(15, dtype=np.float32).reshape(hidden_size, num_classes)\n",
    "outputs = np.matmul(x_data, softmax_w)\n",
    "outputs = outputs.reshape(-1, sequence_length, num_classes) # batch, seq, class\n",
    "pp.pprint(outputs)"
   ]
  },
  {
   "cell_type": "code",
   "execution_count": 11,
   "metadata": {
    "collapsed": false
   },
   "outputs": [
    {
     "name": "stdout",
     "output_type": "stream",
     "text": [
      "Loss1:  0.313262 Loss2:  1.31326 Loss3:  0.646595\n"
     ]
    }
   ],
   "source": [
    "# [batch_size, sequence_length, emb_dim ]\n",
    "prediction1 = tf.constant([[[0, 1], [0, 1], [0, 1]]], dtype=tf.float32)\n",
    "prediction2 = tf.constant([[[1, 0], [1, 0], [1, 0]]], dtype=tf.float32)\n",
    "prediction3 = tf.constant([[[0, 1], [1, 0], [0, 1]]], dtype=tf.float32)\n",
    "\n",
    "# [batch_size, sequence_length]\n",
    "y_data = tf.constant([[1, 1, 1]])\n",
    "\n",
    "# [batch_size * sequence_length]\n",
    "weights = tf.constant([[1, 1, 1]], dtype=tf.float32)\n",
    "\n",
    "sequence_loss1 = tf.contrib.seq2seq.sequence_loss(prediction1, y_data, weights)\n",
    "sequence_loss2 = tf.contrib.seq2seq.sequence_loss(prediction2, y_data, weights)\n",
    "sequence_loss3 = tf.contrib.seq2seq.sequence_loss(prediction3, y_data, weights)\n",
    "\n",
    "sess.run(tf.global_variables_initializer())\n",
    "print(\"Loss1: \", sequence_loss1.eval(),\n",
    "      \"Loss2: \", sequence_loss2.eval(),\n",
    "      \"Loss3: \", sequence_loss3.eval())"
   ]
  }
 ],
 "metadata": {
  "kernelspec": {
   "display_name": "Python 3",
   "language": "python",
   "name": "python3"
  },
  "language_info": {
   "codemirror_mode": {
    "name": "ipython",
    "version": 3.0
   },
   "file_extension": ".py",
   "mimetype": "text/x-python",
   "name": "python",
   "nbconvert_exporter": "python",
   "pygments_lexer": "ipython3",
   "version": "3.6.0"
  }
 },
 "nbformat": 4,
 "nbformat_minor": 0
}