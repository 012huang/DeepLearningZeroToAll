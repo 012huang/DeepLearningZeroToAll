{
 "cells": [
  {
   "cell_type": "code",
   "execution_count": 1,
   "metadata": {
    "collapsed": true
   },
   "outputs": [],
   "source": [
    "# http://www.wildml.com/2016/08/rnns-in-tensorflow-a-practical-guide-and-undocumented-features/\n",
    "# http://learningtensorflow.com/index.html\n",
    "# http://suriyadeepan.github.io/2016-12-31-practical-seq2seq/\n",
    "\n",
    "import tensorflow as tf\n",
    "import numpy as np\n",
    "from tensorflow.contrib import rnn\n",
    "import pprint\n",
    "pp = pprint.PrettyPrinter(indent=4)\n",
    "sess = tf.InteractiveSession()"
   ]
  },
  {
   "cell_type": "code",
   "execution_count": 2,
   "metadata": {
    "collapsed": true
   },
   "outputs": [],
   "source": [
    "# One hot encoding for each char in 'hello'\n",
    "h = [1, 0, 0, 0]\n",
    "e = [0, 1, 0, 0]\n",
    "l = [0, 0, 1, 0]\n",
    "o = [0, 0, 0, 1]"
   ]
  },
  {
   "cell_type": "code",
   "execution_count": 3,
   "metadata": {
    "collapsed": false
   },
   "outputs": [
    {
     "name": "stdout",
     "output_type": "stream",
     "text": [
      "5 5\n",
      "array([[[ 1.,  0.,  0.,  0.]]], dtype=float32)\n",
      "array([[[-0.44781727, -0.47987124, -0.26827306,  0.31146127, -0.55739635]]], dtype=float32)\n"
     ]
    }
   ],
   "source": [
    "with tf.variable_scope('one_cell') as scope:\n",
    "    # One cell RNN input_dim (4) -> output_dim (5)\n",
    "    hidden_size = 5\n",
    "    cell = tf.contrib.rnn.BasicRNNCell(num_units=hidden_size)\n",
    "    print(cell.output_size, cell.state_size)\n",
    "\n",
    "    x_data = np.array([[h]], dtype=np.float32) # x_data = [[[1,0,0,0]]]\n",
    "    pp.pprint(x_data)\n",
    "    outputs, _states = tf.nn.dynamic_rnn(cell, x_data, dtype=tf.float32)\n",
    "\n",
    "    sess.run(tf.global_variables_initializer())\n",
    "    pp.pprint(outputs.eval())"
   ]
  },
  {
   "cell_type": "code",
   "execution_count": 4,
   "metadata": {
    "collapsed": false
   },
   "outputs": [
    {
     "name": "stdout",
     "output_type": "stream",
     "text": [
      "array([[[ 1.,  0.,  0.,  0.],\n",
      "        [ 0.,  1.,  0.,  0.],\n",
      "        [ 0.,  0.,  1.,  0.],\n",
      "        [ 0.,  0.,  1.,  0.],\n",
      "        [ 0.,  0.,  0.,  1.]]], dtype=float32)\n",
      "array([[[  1.49680585e-01,   4.57575798e-01,  -3.26761574e-01,\n",
      "           6.17544577e-02,  -2.06688106e-01],\n",
      "        [  9.73679053e-05,   5.36672771e-01,   1.17760032e-01,\n",
      "          -6.49058297e-02,   5.46318889e-01],\n",
      "        [  2.76892722e-01,   3.55790615e-01,  -4.51711059e-01,\n",
      "           2.93671340e-01,   8.11443865e-01],\n",
      "        [  3.39017272e-01,   4.72602904e-01,  -5.00574112e-01,\n",
      "           4.61370111e-01,   8.59482050e-01],\n",
      "        [ -2.57724971e-01,   7.87769735e-01,  -3.28987956e-01,\n",
      "           3.32676560e-01,   7.03333855e-01]]], dtype=float32)\n"
     ]
    }
   ],
   "source": [
    "with tf.variable_scope('two_sequances') as scope:\n",
    "    # One cell RNN input_dim (4) -> output_dim (5). sequence: 5\n",
    "    hidden_size = 5\n",
    "    cell = tf.contrib.rnn.BasicRNNCell(num_units=hidden_size)\n",
    "    x_data = np.array([[h, e, l, l, o]], dtype=np.float32)\n",
    "    pp.pprint(x_data)\n",
    "    outputs, states = tf.nn.dynamic_rnn(cell, x_data, dtype=tf.float32)\n",
    "    sess.run(tf.global_variables_initializer())\n",
    "    pp.pprint(outputs.eval())"
   ]
  },
  {
   "cell_type": "code",
   "execution_count": 5,
   "metadata": {
    "collapsed": false
   },
   "outputs": [
    {
     "name": "stdout",
     "output_type": "stream",
     "text": [
      "array([[[ 1.,  0.,  0.,  0.],\n",
      "        [ 0.,  1.,  0.,  0.],\n",
      "        [ 0.,  0.,  1.,  0.],\n",
      "        [ 0.,  0.,  1.,  0.],\n",
      "        [ 0.,  0.,  0.,  1.]],\n",
      "\n",
      "       [[ 0.,  1.,  0.,  0.],\n",
      "        [ 0.,  0.,  0.,  1.],\n",
      "        [ 0.,  0.,  1.,  0.],\n",
      "        [ 0.,  0.,  1.,  0.],\n",
      "        [ 0.,  0.,  1.,  0.]],\n",
      "\n",
      "       [[ 0.,  0.,  1.,  0.],\n",
      "        [ 0.,  0.,  1.,  0.],\n",
      "        [ 0.,  1.,  0.,  0.],\n",
      "        [ 0.,  1.,  0.,  0.],\n",
      "        [ 0.,  0.,  1.,  0.]]], dtype=float32)\n",
      "array([[[-0.07252847,  0.0775635 ,  0.06614664,  0.08079588,  0.04236094],\n",
      "        [ 0.04452875,  0.06366129,  0.07129606,  0.03916293,  0.10729305],\n",
      "        [ 0.03708347,  0.06362158,  0.12195665,  0.07282814,  0.01950728],\n",
      "        [ 0.01745722,  0.07022832,  0.16407327,  0.09803926, -0.02463623],\n",
      "        [-0.00448285, -0.00953624,  0.12360945,  0.12154452, -0.07512   ]],\n",
      "\n",
      "       [[ 0.08130765, -0.00799185,  0.03515827, -0.02814181,  0.05611193],\n",
      "        [ 0.05239937, -0.0723763 ,  0.04340763,  0.01433225, -0.01099364],\n",
      "        [ 0.03781414, -0.01346075,  0.12722257,  0.03135045, -0.04362923],\n",
      "        [ 0.02070123,  0.01884227,  0.17566508,  0.05328269, -0.07179298],\n",
      "        [ 0.01014991,  0.03844688,  0.20406827,  0.07393394, -0.09388942]],\n",
      "\n",
      "       [[-0.01680856,  0.02185564,  0.08875979,  0.02330945, -0.04539563],\n",
      "        [-0.02442857,  0.03565378,  0.14561474,  0.04497055, -0.07776213],\n",
      "        [ 0.07775364,  0.02574186,  0.16090409,  0.00843426, -0.0313648 ],\n",
      "        [ 0.13388211,  0.01623883,  0.15154298, -0.01074556,  0.03566512],\n",
      "        [ 0.15530449,  0.04003758,  0.17250575,  0.03623933, -0.01683592]]], dtype=float32)\n"
     ]
    }
   ],
   "source": [
    "with tf.variable_scope('3_batches') as scope:\n",
    "    # One cell RNN input_dim (4) -> output_dim (5). sequence: 5, batch 3\n",
    "    # 3 batches 'hello', 'eolll', 'lleel'\n",
    "    cell = rnn.BasicLSTMCell(num_units=5, state_is_tuple=True)\n",
    "    x_data = np.array([[h, e, l, l, o],\n",
    "                       [e, o, l, l, l],\n",
    "                       [l, l, e, e, l]], dtype=np.float32)\n",
    "    pp.pprint(x_data)\n",
    "    outputs, _states = tf.nn.dynamic_rnn(\n",
    "        cell, x_data, dtype=tf.float32)\n",
    "    sess.run(tf.global_variables_initializer())\n",
    "    pp.pprint(outputs.eval())"
   ]
  },
  {
   "cell_type": "code",
   "execution_count": 6,
   "metadata": {
    "collapsed": false
   },
   "outputs": [
    {
     "name": "stdout",
     "output_type": "stream",
     "text": [
      "array([[[ 1.,  0.,  0.,  0.],\n",
      "        [ 0.,  1.,  0.,  0.],\n",
      "        [ 0.,  0.,  1.,  0.],\n",
      "        [ 0.,  0.,  1.,  0.],\n",
      "        [ 0.,  0.,  0.,  1.]],\n",
      "\n",
      "       [[ 0.,  1.,  0.,  0.],\n",
      "        [ 0.,  0.,  0.,  1.],\n",
      "        [ 0.,  0.,  1.,  0.],\n",
      "        [ 0.,  0.,  1.,  0.],\n",
      "        [ 0.,  0.,  1.,  0.]],\n",
      "\n",
      "       [[ 0.,  0.,  1.,  0.],\n",
      "        [ 0.,  0.,  1.,  0.],\n",
      "        [ 0.,  1.,  0.,  0.],\n",
      "        [ 0.,  1.,  0.,  0.],\n",
      "        [ 0.,  0.,  1.,  0.]]], dtype=float32)\n",
      "array([[[ 0.0519165 , -0.04327231, -0.08364201, -0.07476711,  0.00534009],\n",
      "        [ 0.04659839, -0.06371045, -0.19579704, -0.12149881, -0.05449938],\n",
      "        [ 0.09058722, -0.04613225, -0.06458014, -0.16657713, -0.0457782 ],\n",
      "        [ 0.1340746 , -0.04038832,  0.0169525 , -0.20342046, -0.02785051],\n",
      "        [ 0.12421186, -0.0861579 ,  0.00590167, -0.12348987,  0.1156553 ]],\n",
      "\n",
      "       [[ 0.01386391, -0.03811208, -0.12755112, -0.08774755, -0.05847118],\n",
      "        [ 0.02469022, -0.08621137, -0.05488021,  0.00699097,  0.0603526 ],\n",
      "        [ 0.10851624, -0.09534433,  0.0332171 , -0.07448591,  0.0207487 ],\n",
      "        [ 0.        ,  0.        ,  0.        ,  0.        ,  0.        ],\n",
      "        [ 0.        ,  0.        ,  0.        ,  0.        ,  0.        ]],\n",
      "\n",
      "       [[ 0.09451824, -0.02775291,  0.08091293, -0.08903458, -0.00541545],\n",
      "        [ 0.15024659, -0.04233894,  0.12109751, -0.15315647,  0.00490434],\n",
      "        [ 0.16205588, -0.06722932, -0.05496693, -0.18909965, -0.0371674 ],\n",
      "        [ 0.10254326, -0.07874614, -0.18568267, -0.20907503, -0.07524092],\n",
      "        [ 0.        ,  0.        ,  0.        ,  0.        ,  0.        ]]], dtype=float32)\n"
     ]
    }
   ],
   "source": [
    "with tf.variable_scope('3_batches_dynamic_length') as scope:\n",
    "    # One cell RNN input_dim (4) -> output_dim (5). sequence: 5, batch 3\n",
    "    # 3 batches 'hello', 'eolll', 'lleel'\n",
    "    x_data = np.array([[h, e, l, l, o],\n",
    "                       [e, o, l, l, l],\n",
    "                       [l, l, e, e, l]], dtype=np.float32)\n",
    "    pp.pprint(x_data)\n",
    "    \n",
    "    cell = rnn.BasicLSTMCell(num_units=5, state_is_tuple=True)\n",
    "    outputs, _states = tf.nn.dynamic_rnn(\n",
    "        cell, x_data, sequence_length=[5,3,4], dtype=tf.float32)\n",
    "    sess.run(tf.global_variables_initializer())\n",
    "    pp.pprint(outputs.eval())"
   ]
  },
  {
   "cell_type": "code",
   "execution_count": 7,
   "metadata": {
    "collapsed": false
   },
   "outputs": [
    {
     "name": "stdout",
     "output_type": "stream",
     "text": [
      "array([[[ 1.,  0.,  0.,  0.],\n",
      "        [ 0.,  1.,  0.,  0.],\n",
      "        [ 0.,  0.,  1.,  0.],\n",
      "        [ 0.,  0.,  1.,  0.],\n",
      "        [ 0.,  0.,  0.,  1.]],\n",
      "\n",
      "       [[ 0.,  1.,  0.,  0.],\n",
      "        [ 0.,  0.,  0.,  1.],\n",
      "        [ 0.,  0.,  1.,  0.],\n",
      "        [ 0.,  0.,  1.,  0.],\n",
      "        [ 0.,  0.,  1.,  0.]],\n",
      "\n",
      "       [[ 0.,  0.,  1.,  0.],\n",
      "        [ 0.,  0.,  1.,  0.],\n",
      "        [ 0.,  1.,  0.,  0.],\n",
      "        [ 0.,  1.,  0.,  0.],\n",
      "        [ 0.,  0.,  1.,  0.]]], dtype=float32)\n",
      "array([[[ 0.01048953,  0.07775675, -0.01061853,  0.06709377, -0.09401938],\n",
      "        [-0.02206461,  0.14650168,  0.06800876,  0.07117976, -0.09127868],\n",
      "        [-0.11707038,  0.17186792,  0.07723564,  0.07134711, -0.15715575],\n",
      "        [-0.17756338,  0.19500808,  0.09822351,  0.07682182, -0.19396444],\n",
      "        [-0.24747425,  0.11276656,  0.08813035,  0.11583821, -0.16482027]],\n",
      "\n",
      "       [[-0.02317488,  0.08674409,  0.07696244,  0.03443838, -0.03646074],\n",
      "        [-0.1409598 ,  0.03053352,  0.05721698,  0.08023254, -0.07483447],\n",
      "        [-0.16899718,  0.0962148 ,  0.08611743,  0.07793534, -0.15344033],\n",
      "        [-0.20715602,  0.14003356,  0.10502712,  0.08333381, -0.19942178],\n",
      "        [-0.23607504,  0.1688    ,  0.11627351,  0.08761203, -0.22944039]],\n",
      "\n",
      "       [[-0.08535379,  0.07881538,  0.05050488,  0.02231804, -0.09149086],\n",
      "        [-0.14908274,  0.13099402,  0.08275413,  0.04020498, -0.15390675],\n",
      "        [-0.10480295,  0.18835618,  0.1492686 ,  0.06311106, -0.13011141],\n",
      "        [-0.10007276,  0.22343002,  0.16080548,  0.07365897, -0.12243731],\n",
      "        [-0.18918735,  0.21715274,  0.11447902,  0.07233121, -0.17786758]]], dtype=float32)\n"
     ]
    }
   ],
   "source": [
    "with tf.variable_scope('initial_state') as scope:\n",
    "    batch_size = 3\n",
    "    x_data = np.array([[h, e, l, l, o],\n",
    "                      [e, o, l, l, l],\n",
    "                      [l, l, e, e, l]], dtype=np.float32)\n",
    "    pp.pprint(x_data)\n",
    "    \n",
    "    # One cell RNN input_dim (4) -> output_dim (5). sequence: 5, batch: 3\n",
    "    cell = rnn.BasicLSTMCell(num_units=5, state_is_tuple=True)\n",
    "    initial_state = cell.zero_state(batch_size, tf.float32)\n",
    "    outputs, _states = tf.nn.dynamic_rnn(cell, x_data,\n",
    "                                         initial_state=initial_state, dtype=tf.float32)\n",
    "    sess.run(tf.global_variables_initializer())\n",
    "    pp.pprint(outputs.eval())"
   ]
  },
  {
   "cell_type": "code",
   "execution_count": 8,
   "metadata": {
    "collapsed": false
   },
   "outputs": [
    {
     "name": "stdout",
     "output_type": "stream",
     "text": [
      "array([[[  0.,   1.,   2.],\n",
      "        [  3.,   4.,   5.],\n",
      "        [  6.,   7.,   8.],\n",
      "        [  9.,  10.,  11.],\n",
      "        [ 12.,  13.,  14.]],\n",
      "\n",
      "       [[ 15.,  16.,  17.],\n",
      "        [ 18.,  19.,  20.],\n",
      "        [ 21.,  22.,  23.],\n",
      "        [ 24.,  25.,  26.],\n",
      "        [ 27.,  28.,  29.]],\n",
      "\n",
      "       [[ 30.,  31.,  32.],\n",
      "        [ 33.,  34.,  35.],\n",
      "        [ 36.,  37.,  38.],\n",
      "        [ 39.,  40.,  41.],\n",
      "        [ 42.,  43.,  44.]]], dtype=float32)\n"
     ]
    }
   ],
   "source": [
    "# Create input data\n",
    "batch_size=3\n",
    "sequence_length=5\n",
    "input_dim=3\n",
    "\n",
    "x_data = np.arange(45, dtype=np.float32).reshape(batch_size, sequence_length, input_dim)\n",
    "pp.pprint(x_data)  # batch, sequence_length, input_dim"
   ]
  },
  {
   "cell_type": "code",
   "execution_count": 9,
   "metadata": {
    "collapsed": false
   },
   "outputs": [
    {
     "name": "stdout",
     "output_type": "stream",
     "text": [
      "array([[[ -6.20050430e-02,   1.94930911e-01,   6.65694550e-02,\n",
      "          -3.58048603e-02,   4.28726114e-02],\n",
      "        [ -2.45342590e-02,   2.39187196e-01,  -1.17859460e-01,\n",
      "          -7.53940176e-03,   7.54191428e-02],\n",
      "        [ -2.33620685e-03,   1.25779077e-01,  -4.28574443e-01,\n",
      "          -9.16432356e-04,   7.23467171e-02],\n",
      "        [ -8.00368507e-05,   3.81559059e-02,  -5.89959681e-01,\n",
      "          -9.55040523e-05,   5.99204488e-02],\n",
      "        [ -2.67639825e-06,   7.02464581e-03,  -6.72809839e-01,\n",
      "          -8.61920944e-06,   4.47936840e-02]],\n",
      "\n",
      "       [[ -1.49822441e-07,   4.69659833e-04,  -7.13899076e-01,\n",
      "          -5.71295857e-07,   2.45810430e-02],\n",
      "        [ -7.07750347e-09,   1.13169284e-04,  -7.38982975e-01,\n",
      "          -6.15516953e-08,   2.31434256e-02],\n",
      "        [ -3.92506944e-10,   2.59797253e-05,  -7.50352740e-01,\n",
      "          -5.10062081e-09,   1.62533764e-02],\n",
      "        [ -2.17674715e-11,   6.27894769e-06,  -7.56016850e-01,\n",
      "          -4.18352575e-10,   1.13154007e-02],\n",
      "        [ -1.21007143e-12,   1.56157046e-06,  -7.58828819e-01,\n",
      "          -3.41646086e-11,   7.81240594e-03]],\n",
      "\n",
      "       [[ -8.37586226e-14,   5.13011685e-07,  -7.60145664e-01,\n",
      "          -2.10031558e-12,   3.98181845e-03],\n",
      "        [ -3.74814493e-15,   9.97989389e-08,  -7.60913193e-01,\n",
      "          -2.25966327e-13,   3.65880318e-03],\n",
      "        [ -2.09163312e-16,   2.52448960e-08,  -7.61255801e-01,\n",
      "          -1.83356782e-14,   2.48530088e-03],\n",
      "        [ -1.16635800e-17,   6.41031406e-09,  -7.61425912e-01,\n",
      "          -1.48491207e-15,   1.68340432e-03],\n",
      "        [ -6.50579258e-19,   1.62822666e-09,  -7.61510313e-01,\n",
      "          -1.20081479e-16,   1.13709760e-03]]], dtype=float32)\n"
     ]
    }
   ],
   "source": [
    "with tf.variable_scope('generated_data') as scope:\n",
    "    # One cell RNN input_dim (3) -> output_dim (5). sequence: 5, batch: 3\n",
    "    cell = rnn.BasicLSTMCell(num_units=5, state_is_tuple=True)\n",
    "    initial_state = cell.zero_state(batch_size, tf.float32)\n",
    "    outputs, _states = tf.nn.dynamic_rnn(cell, x_data,\n",
    "                                         initial_state=initial_state, dtype=tf.float32)\n",
    "    sess.run(tf.global_variables_initializer())\n",
    "    pp.pprint(outputs.eval())"
   ]
  },
  {
   "cell_type": "code",
   "execution_count": 10,
   "metadata": {
    "collapsed": false
   },
   "outputs": [
    {
     "name": "stdout",
     "output_type": "stream",
     "text": [
      "dynamic rnn:  Tensor(\"MultiRNNCell/rnn/transpose:0\", shape=(3, 5, 5), dtype=float32)\n",
      "array([[[  9.99064068e-04,  -2.11817445e-03,   1.44370680e-03,\n",
      "           1.50063180e-03,   1.82173401e-03],\n",
      "        [  2.46295147e-03,  -4.44928790e-03,   3.61538562e-03,\n",
      "           3.70276137e-03,   4.01348574e-03],\n",
      "        [  4.16039489e-03,  -5.28941676e-03,   5.33266086e-03,\n",
      "           5.84180467e-03,   5.37146395e-03],\n",
      "        [  5.81860030e-03,  -4.64185700e-03,   6.37572864e-03,\n",
      "           7.45297596e-03,   5.72169898e-03],\n",
      "        [  7.21729361e-03,  -3.15448432e-03,   6.95604645e-03,\n",
      "           8.38801358e-03,   5.32921217e-03]],\n",
      "\n",
      "       [[  7.49339670e-05,  -8.02440409e-05,   1.47476225e-04,\n",
      "           3.11960321e-05,   1.99810544e-04],\n",
      "        [  1.64752928e-04,  -9.17961806e-05,   2.68404925e-04,\n",
      "           6.32375450e-05,   3.62097402e-04],\n",
      "        [  2.46637210e-04,  -4.22095836e-05,   3.38729616e-04,\n",
      "           8.20595887e-05,   4.44179255e-04],\n",
      "        [  3.11693177e-04,   3.35304685e-05,   3.72465642e-04,\n",
      "           8.43969829e-05,   4.62457218e-04],\n",
      "        [  3.57004348e-04,   1.08844033e-04,   3.85831634e-04,\n",
      "           7.26731741e-05,   4.42735618e-04]],\n",
      "\n",
      "       [[  1.62802951e-06,  -1.48330173e-06,   2.96008579e-06,\n",
      "           5.96966004e-07,   4.28671501e-06],\n",
      "        [  3.54628401e-06,  -1.57700845e-06,   5.38278300e-06,\n",
      "           1.17100160e-06,   7.73309785e-06],\n",
      "        [  5.27528482e-06,  -4.84303769e-07,   6.80140101e-06,\n",
      "           1.46214973e-06,   9.46551791e-06],\n",
      "        [  6.63501305e-06,   1.08592633e-06,   7.49903484e-06,\n",
      "           1.42304282e-06,   9.85158022e-06],\n",
      "        [  7.57034559e-06,   2.60998218e-06,   7.79475704e-06,\n",
      "           1.11309203e-06,   9.43998748e-06]]], dtype=float32)\n"
     ]
    }
   ],
   "source": [
    "with tf.variable_scope('MultiRNNCell') as scope:\n",
    "    # Make rnn\n",
    "    cell = rnn.BasicLSTMCell(num_units=5, state_is_tuple=True)\n",
    "    cell = rnn.MultiRNNCell([cell] * 3, state_is_tuple=True) # 3 layers\n",
    "\n",
    "    # rnn in/out\n",
    "    outputs, _states = tf.nn.dynamic_rnn(cell, x_data, dtype=tf.float32)\n",
    "    print(\"dynamic rnn: \", outputs)\n",
    "    sess.run(tf.global_variables_initializer())\n",
    "    pp.pprint(outputs.eval())  # batch size, unrolling (time), hidden_size"
   ]
  },
  {
   "cell_type": "code",
   "execution_count": 11,
   "metadata": {
    "collapsed": false
   },
   "outputs": [
    {
     "name": "stdout",
     "output_type": "stream",
     "text": [
      "dynamic rnn:  Tensor(\"dynamic_rnn/rnn/transpose:0\", shape=(3, 5, 5), dtype=float32)\n",
      "array([[[ -4.44427226e-03,  -1.75914958e-01,   1.76765263e-01,\n",
      "           1.49680004e-02,   4.00400795e-02],\n",
      "        [  0.00000000e+00,   0.00000000e+00,   0.00000000e+00,\n",
      "           0.00000000e+00,   0.00000000e+00],\n",
      "        [  0.00000000e+00,   0.00000000e+00,   0.00000000e+00,\n",
      "           0.00000000e+00,   0.00000000e+00],\n",
      "        [  0.00000000e+00,   0.00000000e+00,   0.00000000e+00,\n",
      "           0.00000000e+00,   0.00000000e+00],\n",
      "        [  0.00000000e+00,   0.00000000e+00,   0.00000000e+00,\n",
      "           0.00000000e+00,   0.00000000e+00]],\n",
      "\n",
      "       [[  5.99127361e-07,  -6.83930889e-03,   4.28351641e-01,\n",
      "          -2.01454368e-05,   2.11786618e-03],\n",
      "        [  7.21270794e-08,  -1.01151206e-02,   7.27387071e-01,\n",
      "          -3.15568582e-06,   7.76955741e-04],\n",
      "        [  5.94313088e-09,  -1.16600012e-02,   8.82686734e-01,\n",
      "          -4.60544243e-07,   2.35174608e-04],\n",
      "        [  0.00000000e+00,   0.00000000e+00,   0.00000000e+00,\n",
      "           0.00000000e+00,   0.00000000e+00],\n",
      "        [  0.00000000e+00,   0.00000000e+00,   0.00000000e+00,\n",
      "           0.00000000e+00,   0.00000000e+00]],\n",
      "\n",
      "       [[  1.84090156e-12,  -5.67049392e-05,   4.43488449e-01,\n",
      "          -1.83249271e-09,   5.10852033e-06],\n",
      "        [  1.66443099e-13,  -8.35637402e-05,   7.41506636e-01,\n",
      "          -2.51068749e-10,   1.84666192e-06],\n",
      "        [  0.00000000e+00,   0.00000000e+00,   0.00000000e+00,\n",
      "           0.00000000e+00,   0.00000000e+00],\n",
      "        [  0.00000000e+00,   0.00000000e+00,   0.00000000e+00,\n",
      "           0.00000000e+00,   0.00000000e+00],\n",
      "        [  0.00000000e+00,   0.00000000e+00,   0.00000000e+00,\n",
      "           0.00000000e+00,   0.00000000e+00]]], dtype=float32)\n"
     ]
    }
   ],
   "source": [
    "with tf.variable_scope('dynamic_rnn') as scope:\n",
    "    cell = rnn.BasicLSTMCell(num_units=5, state_is_tuple=True)\n",
    "    outputs, _states = tf.nn.dynamic_rnn(cell, x_data, dtype=tf.float32,\n",
    "                                         sequence_length=[1, 3, 2])\n",
    "    # lentgh 1 for batch 1, lentgh 2 for batch 2\n",
    "    \n",
    "    print(\"dynamic rnn: \", outputs)\n",
    "    sess.run(tf.global_variables_initializer())\n",
    "    pp.pprint(outputs.eval())  # batch size, unrolling (time), hidden_size"
   ]
  },
  {
   "cell_type": "code",
   "execution_count": 12,
   "metadata": {
    "collapsed": false
   },
   "outputs": [
    {
     "name": "stdout",
     "output_type": "stream",
     "text": [
      "(   array([[[ -1.97037429e-01,   3.19136083e-01,   1.21739082e-01,\n",
      "           7.28317574e-02,   5.46695525e-03],\n",
      "        [ -4.64550942e-01,   2.38791093e-01,   2.29666293e-01,\n",
      "           2.73308009e-01,   3.25907432e-02],\n",
      "        [  0.00000000e+00,   0.00000000e+00,   0.00000000e+00,\n",
      "           0.00000000e+00,   0.00000000e+00],\n",
      "        [  0.00000000e+00,   0.00000000e+00,   0.00000000e+00,\n",
      "           0.00000000e+00,   0.00000000e+00],\n",
      "        [  0.00000000e+00,   0.00000000e+00,   0.00000000e+00,\n",
      "           0.00000000e+00,   0.00000000e+00]],\n",
      "\n",
      "       [[ -7.15138733e-01,   1.78781373e-03,   3.21433872e-01,\n",
      "           2.11304612e-02,   1.54711415e-05],\n",
      "        [ -7.27850437e-01,   6.33687479e-04,   3.50840300e-01,\n",
      "           1.33414185e-02,   1.82280110e-06],\n",
      "        [ -7.38869429e-01,   1.81801879e-04,   3.31723392e-01,\n",
      "           6.80072745e-03,   2.47312755e-07],\n",
      "        [  0.00000000e+00,   0.00000000e+00,   0.00000000e+00,\n",
      "           0.00000000e+00,   0.00000000e+00],\n",
      "        [  0.00000000e+00,   0.00000000e+00,   0.00000000e+00,\n",
      "           0.00000000e+00,   0.00000000e+00]],\n",
      "\n",
      "       [[ -7.55371332e-01,   2.93487278e-06,   2.09410980e-01,\n",
      "           6.14219927e-04,   7.00674352e-10],\n",
      "        [  0.00000000e+00,   0.00000000e+00,   0.00000000e+00,\n",
      "           0.00000000e+00,   0.00000000e+00],\n",
      "        [  0.00000000e+00,   0.00000000e+00,   0.00000000e+00,\n",
      "           0.00000000e+00,   0.00000000e+00],\n",
      "        [  0.00000000e+00,   0.00000000e+00,   0.00000000e+00,\n",
      "           0.00000000e+00,   0.00000000e+00],\n",
      "        [  0.00000000e+00,   0.00000000e+00,   0.00000000e+00,\n",
      "           0.00000000e+00,   0.00000000e+00]]], dtype=float32),\n",
      "    array([[[ -5.90476215e-01,  -1.42511576e-01,   1.31275682e-02,\n",
      "           4.90079969e-02,  -4.28420044e-02],\n",
      "        [ -5.06189466e-01,  -3.55103552e-01,   3.19857188e-02,\n",
      "           8.59493017e-02,  -1.43212164e-02],\n",
      "        [  0.00000000e+00,   0.00000000e+00,   0.00000000e+00,\n",
      "           0.00000000e+00,   0.00000000e+00],\n",
      "        [  0.00000000e+00,   0.00000000e+00,   0.00000000e+00,\n",
      "           0.00000000e+00,   0.00000000e+00],\n",
      "        [  0.00000000e+00,   0.00000000e+00,   0.00000000e+00,\n",
      "           0.00000000e+00,   0.00000000e+00]],\n",
      "\n",
      "       [[ -8.43624532e-01,  -8.43090951e-01,   1.40265311e-05,\n",
      "           1.06192986e-03,  -7.85469183e-06],\n",
      "        [ -8.15832496e-01,  -8.27302754e-01,   1.55900250e-06,\n",
      "           3.22740205e-04,  -9.54558800e-07],\n",
      "        [ -5.98304689e-01,  -7.47013628e-01,   1.21779422e-07,\n",
      "           1.12882553e-04,  -1.03011750e-07],\n",
      "        [  0.00000000e+00,   0.00000000e+00,   0.00000000e+00,\n",
      "           0.00000000e+00,   0.00000000e+00],\n",
      "        [  0.00000000e+00,   0.00000000e+00,   0.00000000e+00,\n",
      "           0.00000000e+00,   0.00000000e+00]],\n",
      "\n",
      "       [[ -6.32952809e-01,  -7.59227037e-01,   2.05358675e-10,\n",
      "           3.29745217e-06,  -1.89174648e-10],\n",
      "        [  0.00000000e+00,   0.00000000e+00,   0.00000000e+00,\n",
      "           0.00000000e+00,   0.00000000e+00],\n",
      "        [  0.00000000e+00,   0.00000000e+00,   0.00000000e+00,\n",
      "           0.00000000e+00,   0.00000000e+00],\n",
      "        [  0.00000000e+00,   0.00000000e+00,   0.00000000e+00,\n",
      "           0.00000000e+00,   0.00000000e+00],\n",
      "        [  0.00000000e+00,   0.00000000e+00,   0.00000000e+00,\n",
      "           0.00000000e+00,   0.00000000e+00]]], dtype=float32))\n",
      "(   LSTMStateTuple(c=array([[ -7.34026909e-01,   1.44603992e+00,   2.82622695e-01,\n",
      "          1.04218948e+00,   2.54878134e-01],\n",
      "       [ -9.99153197e-01,   2.99823093e+00,   3.44775051e-01,\n",
      "          2.99998426e+00,   5.94593491e-03],\n",
      "       [ -9.99937534e-01,   9.99996543e-01,   2.12555334e-01,\n",
      "          1.00000000e+00,   5.57473453e-04]], dtype=float32), h=array([[ -4.64550942e-01,   2.38791093e-01,   2.29666293e-01,\n",
      "          2.73308009e-01,   3.25907432e-02],\n",
      "       [ -7.38869429e-01,   1.81801879e-04,   3.31723392e-01,\n",
      "          6.80072745e-03,   2.47312755e-07],\n",
      "       [ -7.55371332e-01,   2.93487278e-06,   2.09410980e-01,\n",
      "          6.14219927e-04,   7.00674352e-10]], dtype=float32)),\n",
      "    LSTMStateTuple(c=array([[ -1.17934334e+00,  -2.50988215e-01,   2.66836677e-02,\n",
      "          6.59636185e-02,  -8.66870359e-02],\n",
      "       [ -2.85473442e+00,  -1.32810867e+00,   1.40293687e-05,\n",
      "          1.06861978e-03,  -1.24860680e-05],\n",
      "       [ -1.00000000e+00,  -9.96237636e-01,   2.05358688e-10,\n",
      "          3.29776890e-06,  -2.37877107e-10]], dtype=float32), h=array([[ -5.90476215e-01,  -1.42511576e-01,   1.31275682e-02,\n",
      "          4.90079969e-02,  -4.28420044e-02],\n",
      "       [ -8.43624532e-01,  -8.43090951e-01,   1.40265311e-05,\n",
      "          1.06192986e-03,  -7.85469183e-06],\n",
      "       [ -6.32952809e-01,  -7.59227037e-01,   2.05358675e-10,\n",
      "          3.29745217e-06,  -1.89174648e-10]], dtype=float32)))\n"
     ]
    }
   ],
   "source": [
    "with tf.variable_scope('bi-directional') as scope:\n",
    "    # bi-directional rnn\n",
    "    cell_fw = rnn.BasicLSTMCell(num_units=5, state_is_tuple=True)\n",
    "    cell_bw = rnn.BasicLSTMCell(num_units=5, state_is_tuple=True)\n",
    "\n",
    "    outputs, states = tf.nn.bidirectional_dynamic_rnn(cell_fw, cell_bw, x_data,\n",
    "                                                      sequence_length=[2, 3, 1],\n",
    "                                                      dtype=tf.float32)\n",
    "\n",
    "    sess.run(tf.global_variables_initializer())\n",
    "    pp.pprint(sess.run(outputs))\n",
    "    pp.pprint(sess.run(states))"
   ]
  },
  {
   "cell_type": "code",
   "execution_count": 13,
   "metadata": {
    "collapsed": false
   },
   "outputs": [
    {
     "name": "stdout",
     "output_type": "stream",
     "text": [
      "array([[[  0.,   1.,   2.],\n",
      "        [  3.,   4.,   5.],\n",
      "        [  6.,   7.,   8.],\n",
      "        [  9.,  10.,  11.],\n",
      "        [ 12.,  13.,  14.]],\n",
      "\n",
      "       [[ 15.,  16.,  17.],\n",
      "        [ 18.,  19.,  20.],\n",
      "        [ 21.,  22.,  23.],\n",
      "        [ 24.,  25.,  26.],\n",
      "        [ 27.,  28.,  29.]],\n",
      "\n",
      "       [[ 30.,  31.,  32.],\n",
      "        [ 33.,  34.,  35.],\n",
      "        [ 36.,  37.,  38.],\n",
      "        [ 39.,  40.,  41.],\n",
      "        [ 42.,  43.,  44.]]], dtype=float32)\n",
      "array([[  0.,   1.,   2.],\n",
      "       [  3.,   4.,   5.],\n",
      "       [  6.,   7.,   8.],\n",
      "       [  9.,  10.,  11.],\n",
      "       [ 12.,  13.,  14.],\n",
      "       [ 15.,  16.,  17.],\n",
      "       [ 18.,  19.,  20.],\n",
      "       [ 21.,  22.,  23.],\n",
      "       [ 24.,  25.,  26.],\n",
      "       [ 27.,  28.,  29.],\n",
      "       [ 30.,  31.,  32.],\n",
      "       [ 33.,  34.,  35.],\n",
      "       [ 36.,  37.,  38.],\n",
      "       [ 39.,  40.,  41.],\n",
      "       [ 42.,  43.,  44.]], dtype=float32)\n",
      "array([[[   25.,    28.,    31.,    34.,    37.],\n",
      "        [   70.,    82.,    94.,   106.,   118.],\n",
      "        [  115.,   136.,   157.,   178.,   199.],\n",
      "        [  160.,   190.,   220.,   250.,   280.],\n",
      "        [  205.,   244.,   283.,   322.,   361.]],\n",
      "\n",
      "       [[  250.,   298.,   346.,   394.,   442.],\n",
      "        [  295.,   352.,   409.,   466.,   523.],\n",
      "        [  340.,   406.,   472.,   538.,   604.],\n",
      "        [  385.,   460.,   535.,   610.,   685.],\n",
      "        [  430.,   514.,   598.,   682.,   766.]],\n",
      "\n",
      "       [[  475.,   568.,   661.,   754.,   847.],\n",
      "        [  520.,   622.,   724.,   826.,   928.],\n",
      "        [  565.,   676.,   787.,   898.,  1009.],\n",
      "        [  610.,   730.,   850.,   970.,  1090.],\n",
      "        [  655.,   784.,   913.,  1042.,  1171.]]], dtype=float32)\n"
     ]
    }
   ],
   "source": [
    "# flattern based softmax\n",
    "hidden_size=3\n",
    "sequence_length=5\n",
    "batch_size=3\n",
    "num_classes=5\n",
    "\n",
    "pp.pprint(x_data) # hidden_size=3, sequence_length=4, batch_size=2\n",
    "x_data = x_data.reshape(-1, hidden_size)\n",
    "pp.pprint(x_data)\n",
    "\n",
    "softmax_w = np.arange(15, dtype=np.float32).reshape(hidden_size, num_classes)\n",
    "outputs = np.matmul(x_data, softmax_w)\n",
    "outputs = outputs.reshape(-1, sequence_length, num_classes) # batch, seq, class\n",
    "pp.pprint(outputs)"
   ]
  },
  {
   "cell_type": "code",
   "execution_count": 14,
   "metadata": {
    "collapsed": false
   },
   "outputs": [
    {
     "name": "stdout",
     "output_type": "stream",
     "text": [
      "Loss1:  0.313262 Loss2:  1.31326 Loss3:  0.646595\n"
     ]
    }
   ],
   "source": [
    "# [batch_size, sequence_length, emb_dim ]\n",
    "prediction1 = tf.constant([[[0, 1], [0, 1], [0, 1]]], dtype=tf.float32)\n",
    "prediction2 = tf.constant([[[1, 0], [1, 0], [1, 0]]], dtype=tf.float32)\n",
    "prediction3 = tf.constant([[[0, 1], [1, 0], [0, 1]]], dtype=tf.float32)\n",
    "\n",
    "# [batch_size, sequence_length]\n",
    "y_data = tf.constant([[1, 1, 1]])\n",
    "\n",
    "# [batch_size * sequence_length]\n",
    "weights = tf.constant([[1, 1, 1]], dtype=tf.float32)\n",
    "\n",
    "sequence_loss1 = tf.contrib.seq2seq.sequence_loss(prediction1, y_data, weights)\n",
    "sequence_loss2 = tf.contrib.seq2seq.sequence_loss(prediction2, y_data, weights)\n",
    "sequence_loss3 = tf.contrib.seq2seq.sequence_loss(prediction3, y_data, weights)\n",
    "\n",
    "sess.run(tf.global_variables_initializer())\n",
    "print(\"Loss1: \", sequence_loss1.eval(),\n",
    "      \"Loss2: \", sequence_loss2.eval(),\n",
    "      \"Loss3: \", sequence_loss3.eval())"
   ]
  }
 ],
 "metadata": {
  "kernelspec": {
   "display_name": "Python 3",
   "language": "python",
   "name": "python3"
  },
  "language_info": {
   "codemirror_mode": {
    "name": "ipython",
    "version": 3
   },
   "file_extension": ".py",
   "mimetype": "text/x-python",
   "name": "python",
   "nbconvert_exporter": "python",
   "pygments_lexer": "ipython3",
   "version": "3.6.0"
  }
 },
 "nbformat": 4,
 "nbformat_minor": 0
}
