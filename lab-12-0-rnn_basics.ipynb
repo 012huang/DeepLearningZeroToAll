{
 "cells": [
  {
   "cell_type": "code",
   "execution_count": 3,
   "metadata": {
    "collapsed": true
   },
   "outputs": [],
   "source": [
    "# http://www.wildml.com/2016/08/rnns-in-tensorflow-a-practical-guide-and-undocumented-features/\n",
    "# http://learningtensorflow.com/index.html\n",
    "# http://suriyadeepan.github.io/2016-12-31-practical-seq2seq/\n",
    "\n",
    "import tensorflow as tf\n",
    "import numpy as np\n",
    "from tensorflow.contrib import rnn\n",
    "import pprint\n",
    "pp = pprint.PrettyPrinter(indent=4)\n",
    "sess = tf.InteractiveSession()"
   ]
  },
  {
   "cell_type": "code",
   "execution_count": 4,
   "metadata": {
    "collapsed": false
   },
   "outputs": [
    {
     "name": "stdout",
     "output_type": "stream",
     "text": [
      "5 5\n",
      "array([[[ 0.92823738, -0.92360902,  0.89258885,  0.99514693, -0.036708  ]]], dtype=float32)\n"
     ]
    }
   ],
   "source": [
    "with tf.variable_scope('one_cell') as scope:\n",
    "    # One cell RNN input_dim (3) -> output_dim (5)\n",
    "    hidden_size = 5\n",
    "    cell = tf.contrib.rnn.BasicRNNCell(num_units=hidden_size)\n",
    "    print(cell.output_size, cell.state_size)\n",
    "\n",
    "    x_data = np.array([[[1, 2, 3]]], dtype=np.float32)\n",
    "    outputs, _states = tf.nn.dynamic_rnn(cell, x_data, dtype=tf.float32)\n",
    "\n",
    "    sess.run(tf.global_variables_initializer())\n",
    "    pp.pprint(outputs.eval())"
   ]
  },
  {
   "cell_type": "code",
   "execution_count": 5,
   "metadata": {
    "collapsed": false
   },
   "outputs": [
    {
     "name": "stdout",
     "output_type": "stream",
     "text": [
      "array([[[ 0.5095908 ,  0.73586476,  0.17925251,  0.35411239, -0.96497387],\n",
      "        [-0.28526765,  0.97455138,  0.97645795, -0.60268986, -0.99961406]]], dtype=float32)\n"
     ]
    }
   ],
   "source": [
    "with tf.variable_scope('two_sequances') as scope:\n",
    "    # One cell RNN input_dim (3) -> output_dim (5). sequence: 2\n",
    "    hidden_size = 5\n",
    "    cell = tf.contrib.rnn.BasicRNNCell(num_units=hidden_size)\n",
    "    x_data = np.array([[[1, 2, 3],\n",
    "                        [4, 5, 6]]], dtype=np.float32)\n",
    "    outputs, states = tf.nn.dynamic_rnn(cell, x_data, dtype=tf.float32)\n",
    "    sess.run(tf.global_variables_initializer())\n",
    "    pp.pprint(outputs.eval())"
   ]
  },
  {
   "cell_type": "code",
   "execution_count": 7,
   "metadata": {
    "collapsed": false
   },
   "outputs": [
    {
     "name": "stdout",
     "output_type": "stream",
     "text": [
      "array([[[ -1.51391983e-01,   8.77759010e-02,   7.22011039e-03,\n",
      "           3.41427065e-02,   1.61610141e-01],\n",
      "        [  0.00000000e+00,   0.00000000e+00,   0.00000000e+00,\n",
      "           0.00000000e+00,   0.00000000e+00]],\n",
      "\n",
      "       [[  3.34553033e-01,  -3.43819201e-01,   1.82304037e-04,\n",
      "           1.33128243e-03,   6.40465990e-02],\n",
      "        [  7.24730372e-01,  -5.43702006e-01,   1.41877981e-05,\n",
      "           2.95121019e-04,   3.15410048e-02]],\n",
      "\n",
      "       [[  6.80008650e-01,  -4.49257314e-01,   6.61273702e-07,\n",
      "           1.35716846e-05,   1.15950974e-02],\n",
      "        [  0.00000000e+00,   0.00000000e+00,   0.00000000e+00,\n",
      "           0.00000000e+00,   0.00000000e+00]]], dtype=float32)\n"
     ]
    }
   ],
   "source": [
    "with tf.variable_scope('3_batches') as scope:\n",
    "    # One cell RNN input_dim (3) -> output_dim (5). sequence: 2\n",
    "    cell = rnn.BasicLSTMCell(num_units=5, state_is_tuple=True)\n",
    "    x_data = np.array([[[1, 2, 3],\n",
    "                        [4, 5, 6]],\n",
    "\n",
    "                       [[7, 8, 9],\n",
    "                        [10, 11, 12]],\n",
    "\n",
    "                       [[13, 14, 15],\n",
    "                        [16, 17, 18]], ], dtype=np.float32)\n",
    "    outputs, _states = tf.nn.dynamic_rnn(\n",
    "        cell, x_data, sequence_length=[1,2,1], dtype=tf.float32)\n",
    "    sess.run(tf.global_variables_initializer())\n",
    "    pp.pprint(outputs.eval())"
   ]
  },
  {
   "cell_type": "code",
   "execution_count": 8,
   "metadata": {
    "collapsed": false
   },
   "outputs": [
    {
     "name": "stdout",
     "output_type": "stream",
     "text": [
      "array([[[  7.10822791e-02,   1.63086936e-01,   8.90568942e-02,\n",
      "          -1.24750927e-01,   2.00498208e-01],\n",
      "        [  4.70112897e-02,   3.78391862e-01,   2.16491129e-02,\n",
      "          -1.13115773e-01,   4.86367106e-01]],\n",
      "\n",
      "       [[  4.97021899e-03,   4.12906766e-01,   3.03682452e-03,\n",
      "          -1.65634304e-02,   5.91667116e-01],\n",
      "        [  7.24130834e-04,   4.93083537e-01,   5.39101311e-04,\n",
      "          -5.02394000e-03,   6.94591641e-01]],\n",
      "\n",
      "       [[  1.03420047e-04,   4.54885125e-01,   7.90608392e-05,\n",
      "          -6.74612937e-04,   7.19891727e-01],\n",
      "        [  1.22139072e-05,   5.20960569e-01,   1.35747678e-05,\n",
      "          -1.44462858e-04,   7.46716678e-01]]], dtype=float32)\n"
     ]
    }
   ],
   "source": [
    "with tf.variable_scope('initial_state') as scope:\n",
    "    # One cell RNN input_dim (3) -> output_dim (5). sequence: 2\n",
    "    batch_size = 3\n",
    "    cell = rnn.BasicLSTMCell(num_units=5, state_is_tuple=True)\n",
    "    initial_state = cell.zero_state(batch_size, tf.float32)\n",
    "\n",
    "    x_data = np.array([[[1, 2, 3],\n",
    "                        [4, 5, 6]],\n",
    "\n",
    "                       [[7, 8, 9],\n",
    "                        [10, 11, 12]],\n",
    "\n",
    "                       [[13, 14, 15],\n",
    "                        [16, 17, 18]], ], dtype=np.float32)\n",
    "    outputs, _states = tf.nn.dynamic_rnn(cell, x_data,\n",
    "                                         initial_state=initial_state, dtype=tf.float32)\n",
    "    sess.run(tf.global_variables_initializer())\n",
    "    pp.pprint(outputs.eval())"
   ]
  },
  {
   "cell_type": "code",
   "execution_count": 9,
   "metadata": {
    "collapsed": false
   },
   "outputs": [
    {
     "name": "stdout",
     "output_type": "stream",
     "text": [
      "array([[[  0.,   1.,   2.],\n",
      "        [  3.,   4.,   5.],\n",
      "        [  6.,   7.,   8.],\n",
      "        [  9.,  10.,  11.]],\n",
      "\n",
      "       [[ 12.,  13.,  14.],\n",
      "        [ 15.,  16.,  17.],\n",
      "        [ 18.,  19.,  20.],\n",
      "        [ 21.,  22.,  23.]]], dtype=float32)\n"
     ]
    }
   ],
   "source": [
    "# Create input data\n",
    "x_data = np.arange(24, dtype=np.float32).reshape(2, 4, 3)\n",
    "pp.pprint(x_data)  # batch, sequence_length, input size"
   ]
  },
  {
   "cell_type": "code",
   "execution_count": 10,
   "metadata": {
    "collapsed": false
   },
   "outputs": [
    {
     "name": "stdout",
     "output_type": "stream",
     "text": [
      "dynamic rnn:  Tensor(\"MultiRNNCell/rnn/transpose:0\", shape=(2, 4, 5), dtype=float32)\n",
      "array([[[-0.00081725, -0.00386185,  0.00659794, -0.0023129 ,  0.00170874],\n",
      "        [ 0.00209906, -0.0158419 ,  0.01976709, -0.00896045,  0.007729  ],\n",
      "        [ 0.00951714, -0.03161216,  0.03275521, -0.01422561,  0.01544347],\n",
      "        [ 0.01877232, -0.04602807,  0.04267565, -0.01718889,  0.02373555]],\n",
      "\n",
      "       [[ 0.00509292, -0.00707487,  0.00062936, -0.0039078 ,  0.0031513 ],\n",
      "        [ 0.01397658, -0.01832587,  0.00351024, -0.00880949,  0.00907965],\n",
      "        [ 0.02361906, -0.02915494,  0.00721703, -0.01298102,  0.01674998],\n",
      "        [ 0.03231562, -0.03762392,  0.0104991 , -0.01586265,  0.02497061]]], dtype=float32)\n"
     ]
    }
   ],
   "source": [
    "with tf.variable_scope('MultiRNNCell') as scope:\n",
    "    # Make rnn\n",
    "    cell = rnn.BasicLSTMCell(num_units=5, state_is_tuple=True)\n",
    "    cell = rnn.MultiRNNCell([cell] * 3, state_is_tuple=True)\n",
    "\n",
    "    # rnn in/out\n",
    "    outputs, _states = tf.nn.dynamic_rnn(cell, x_data, dtype=tf.float32)\n",
    "    print(\"dynamic rnn: \", outputs)\n",
    "    sess.run(tf.global_variables_initializer())\n",
    "    pp.pprint(outputs.eval())  # batch size, unrolling (time), hidden_size"
   ]
  },
  {
   "cell_type": "code",
   "execution_count": 11,
   "metadata": {
    "collapsed": false
   },
   "outputs": [
    {
     "name": "stdout",
     "output_type": "stream",
     "text": [
      "dynamic rnn:  Tensor(\"dynamic_rnn/rnn/transpose:0\", shape=(2, 4, 5), dtype=float32)\n",
      "array([[[  1.44729763e-01,   8.68124291e-02,   2.04916492e-01,\n",
      "           2.09573627e-01,  -5.28967381e-02],\n",
      "        [  0.00000000e+00,   0.00000000e+00,   0.00000000e+00,\n",
      "           0.00000000e+00,   0.00000000e+00],\n",
      "        [  0.00000000e+00,   0.00000000e+00,   0.00000000e+00,\n",
      "           0.00000000e+00,   0.00000000e+00],\n",
      "        [  0.00000000e+00,   0.00000000e+00,   0.00000000e+00,\n",
      "           0.00000000e+00,   0.00000000e+00]],\n",
      "\n",
      "       [[  6.69837773e-01,   6.55202800e-03,   5.15428901e-01,\n",
      "           6.26000166e-01,   1.09414861e-03],\n",
      "        [  7.37198949e-01,   2.45613419e-03,   7.56947041e-01,\n",
      "           6.68402612e-01,   3.07928160e-04],\n",
      "        [  7.48316824e-01,   7.88202335e-04,   8.19158375e-01,\n",
      "           6.95138216e-01,   7.53321801e-05],\n",
      "        [  0.00000000e+00,   0.00000000e+00,   0.00000000e+00,\n",
      "           0.00000000e+00,   0.00000000e+00]]], dtype=float32)\n"
     ]
    }
   ],
   "source": [
    "with tf.variable_scope('dynamic_rnn') as scope:\n",
    "    cell = rnn.BasicLSTMCell(num_units=5, state_is_tuple=True)\n",
    "    outputs, _states = tf.nn.dynamic_rnn(cell, x_data, dtype=tf.float32,\n",
    "                                         sequence_length=[1, 3]) # lentgh 1 for batch 1, lentgh 2 for batch 2\n",
    "    print(\"dynamic rnn: \", outputs)\n",
    "    sess.run(tf.global_variables_initializer())\n",
    "    pp.pprint(outputs.eval())  # batch size, unrolling (time), hidden_size"
   ]
  },
  {
   "cell_type": "code",
   "execution_count": 12,
   "metadata": {
    "collapsed": false
   },
   "outputs": [
    {
     "name": "stdout",
     "output_type": "stream",
     "text": [
      "(   array([[[ -9.65677872e-02,   8.78366530e-02,  -4.63173576e-02,\n",
      "           1.70627236e-01,  -4.50006984e-02],\n",
      "        [ -2.88367927e-01,  -2.20536790e-03,  -2.47096375e-01,\n",
      "           2.39439070e-01,  -6.13145940e-02],\n",
      "        [  0.00000000e+00,   0.00000000e+00,   0.00000000e+00,\n",
      "           0.00000000e+00,   0.00000000e+00],\n",
      "        [  0.00000000e+00,   0.00000000e+00,   0.00000000e+00,\n",
      "           0.00000000e+00,   0.00000000e+00]],\n",
      "\n",
      "       [[ -2.34570522e-02,  -2.30789676e-01,  -8.99251401e-02,\n",
      "           4.12213095e-02,  -5.51276535e-05],\n",
      "        [ -2.83833817e-02,  -3.16335082e-01,  -1.49197981e-01,\n",
      "           2.10800320e-02,  -5.10345890e-05],\n",
      "        [ -2.71350183e-02,  -3.37247968e-01,  -1.85490116e-01,\n",
      "           1.06039764e-02,  -4.90470229e-05],\n",
      "        [  0.00000000e+00,   0.00000000e+00,   0.00000000e+00,\n",
      "           0.00000000e+00,   0.00000000e+00]]], dtype=float32),\n",
      "    array([[[  1.84126094e-01,  -2.18982220e-01,   1.39720485e-01,\n",
      "           3.44079107e-01,  -6.56911135e-02],\n",
      "        [  2.34281030e-02,  -4.09570515e-01,   3.16434465e-02,\n",
      "           2.89640844e-01,  -9.31795407e-03],\n",
      "        [  0.00000000e+00,   0.00000000e+00,   0.00000000e+00,\n",
      "           0.00000000e+00,   0.00000000e+00],\n",
      "        [  0.00000000e+00,   0.00000000e+00,   0.00000000e+00,\n",
      "           0.00000000e+00,   0.00000000e+00]],\n",
      "\n",
      "       [[  9.89461478e-05,  -9.68605280e-01,   1.78079389e-03,\n",
      "           9.17775705e-02,  -1.23107475e-05],\n",
      "        [  1.38388314e-05,  -9.52976823e-01,   4.37916460e-04,\n",
      "           4.84855957e-02,  -1.01028343e-06],\n",
      "        [  1.65542781e-06,  -7.56663740e-01,   8.35553292e-05,\n",
      "           2.30717342e-02,  -7.84334802e-08],\n",
      "        [  0.00000000e+00,   0.00000000e+00,   0.00000000e+00,\n",
      "           0.00000000e+00,   0.00000000e+00]]], dtype=float32))\n",
      "(   LSTMStateTuple(c=array([[ -3.84970158e-01,  -3.97752970e-03,  -4.83172476e-01,\n",
      "          1.04605925e+00,  -1.07953459e-01],\n",
      "       [ -2.73253117e-02,  -4.81255978e-01,  -3.63608897e-01,\n",
      "          1.01591361e+00,  -5.55281949e-05]], dtype=float32), h=array([[ -2.88367927e-01,  -2.20536790e-03,  -2.47096375e-01,\n",
      "          2.39439070e-01,  -6.13145940e-02],\n",
      "       [ -2.71350183e-02,  -3.37247968e-01,  -1.85490116e-01,\n",
      "          1.06039764e-02,  -4.90470229e-05]], dtype=float32)),\n",
      "    LSTMStateTuple(c=array([[  6.56227529e-01,  -4.65519607e-01,   2.68523991e-01,\n",
      "          6.16178215e-01,  -2.59547949e-01],\n",
      "       [  4.95457828e-01,  -2.95244336e+00,   2.51722569e-03,\n",
      "          9.25346762e-02,  -1.46322316e-02]], dtype=float32), h=array([[  1.84126094e-01,  -2.18982220e-01,   1.39720485e-01,\n",
      "          3.44079107e-01,  -6.56911135e-02],\n",
      "       [  9.89461478e-05,  -9.68605280e-01,   1.78079389e-03,\n",
      "          9.17775705e-02,  -1.23107475e-05]], dtype=float32)))\n"
     ]
    }
   ],
   "source": [
    "with tf.variable_scope('bi-directional') as scope:\n",
    "    # bi-directional rnn\n",
    "    cell_fw = rnn.BasicLSTMCell(num_units=5, state_is_tuple=True)\n",
    "    cell_bw = rnn.BasicLSTMCell(num_units=5, state_is_tuple=True)\n",
    "\n",
    "    outputs, states = tf.nn.bidirectional_dynamic_rnn(cell_fw, cell_bw, x_data,\n",
    "                                                      sequence_length=[2, 3],\n",
    "                                                      dtype=tf.float32)\n",
    "\n",
    "    sess.run(tf.global_variables_initializer())\n",
    "    pp.pprint(sess.run(outputs))\n",
    "    pp.pprint(sess.run(states))"
   ]
  },
  {
   "cell_type": "code",
   "execution_count": 10,
   "metadata": {
    "collapsed": false
   },
   "outputs": [
    {
     "name": "stdout",
     "output_type": "stream",
     "text": [
      "array([[[  0.,   1.,   2.],\n",
      "        [  3.,   4.,   5.],\n",
      "        [  6.,   7.,   8.],\n",
      "        [  9.,  10.,  11.]],\n",
      "\n",
      "       [[ 12.,  13.,  14.],\n",
      "        [ 15.,  16.,  17.],\n",
      "        [ 18.,  19.,  20.],\n",
      "        [ 21.,  22.,  23.]]], dtype=float32)\n",
      "array([[  0.,   1.,   2.],\n",
      "       [  3.,   4.,   5.],\n",
      "       [  6.,   7.,   8.],\n",
      "       [  9.,  10.,  11.],\n",
      "       [ 12.,  13.,  14.],\n",
      "       [ 15.,  16.,  17.],\n",
      "       [ 18.,  19.,  20.],\n",
      "       [ 21.,  22.,  23.]], dtype=float32)\n",
      "array([[[  25.,   28.,   31.,   34.,   37.],\n",
      "        [  70.,   82.,   94.,  106.,  118.],\n",
      "        [ 115.,  136.,  157.,  178.,  199.],\n",
      "        [ 160.,  190.,  220.,  250.,  280.]],\n",
      "\n",
      "       [[ 205.,  244.,  283.,  322.,  361.],\n",
      "        [ 250.,  298.,  346.,  394.,  442.],\n",
      "        [ 295.,  352.,  409.,  466.,  523.],\n",
      "        [ 340.,  406.,  472.,  538.,  604.]]], dtype=float32)\n"
     ]
    }
   ],
   "source": [
    "# flattern based softmax\n",
    "hidden_size=3\n",
    "sequence_length=4\n",
    "batch_size=2\n",
    "num_classes=5\n",
    "\n",
    "pp.pprint(x_data) # hidden_size=3, sequence_length=4, batch_size=2\n",
    "x_data = x_data.reshape(-1, hidden_size)\n",
    "pp.pprint(x_data)\n",
    "\n",
    "softmax_w = np.arange(15, dtype=np.float32).reshape(hidden_size, num_classes)\n",
    "outputs = np.matmul(x_data, softmax_w)\n",
    "outputs = outputs.reshape(-1, sequence_length, num_classes) # batch, seq, class\n",
    "pp.pprint(outputs)"
   ]
  },
  {
   "cell_type": "code",
   "execution_count": 11,
   "metadata": {
    "collapsed": false
   },
   "outputs": [
    {
     "name": "stdout",
     "output_type": "stream",
     "text": [
      "Loss1:  0.313262 Loss2:  1.31326 Loss3:  0.646595\n"
     ]
    }
   ],
   "source": [
    "# [batch_size, sequence_length, emb_dim ]\n",
    "prediction1 = tf.constant([[[0, 1], [0, 1], [0, 1]]], dtype=tf.float32)\n",
    "prediction2 = tf.constant([[[1, 0], [1, 0], [1, 0]]], dtype=tf.float32)\n",
    "prediction3 = tf.constant([[[0, 1], [1, 0], [0, 1]]], dtype=tf.float32)\n",
    "\n",
    "# [batch_size, sequence_length]\n",
    "y_data = tf.constant([[1, 1, 1]])\n",
    "\n",
    "# [batch_size * sequence_length]\n",
    "weights = tf.constant([[1, 1, 1]], dtype=tf.float32)\n",
    "\n",
    "sequence_loss1 = tf.contrib.seq2seq.sequence_loss(prediction1, y_data, weights)\n",
    "sequence_loss2 = tf.contrib.seq2seq.sequence_loss(prediction2, y_data, weights)\n",
    "sequence_loss3 = tf.contrib.seq2seq.sequence_loss(prediction3, y_data, weights)\n",
    "\n",
    "sess.run(tf.global_variables_initializer())\n",
    "print(\"Loss1: \", sequence_loss1.eval(),\n",
    "      \"Loss2: \", sequence_loss2.eval(),\n",
    "      \"Loss3: \", sequence_loss3.eval())"
   ]
  }
 ],
 "metadata": {
  "kernelspec": {
   "display_name": "Python 3",
   "language": "python",
   "name": "python3"
  },
  "language_info": {
   "codemirror_mode": {
    "name": "ipython",
    "version": 3
   },
   "file_extension": ".py",
   "mimetype": "text/x-python",
   "name": "python",
   "nbconvert_exporter": "python",
   "pygments_lexer": "ipython3",
   "version": "3.6.0"
  }
 },
 "nbformat": 4,
 "nbformat_minor": 0
}
