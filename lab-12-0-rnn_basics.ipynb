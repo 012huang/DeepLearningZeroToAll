{
 "cells": [
  {
   "cell_type": "code",
   "execution_count": 1,
   "metadata": {
    "collapsed": true
   },
   "outputs": [],
   "source": [
    "# http://www.wildml.com/2016/08/rnns-in-tensorflow-a-practical-guide-and-undocumented-features/\n",
    "# http://learningtensorflow.com/index.html\n",
    "# http://suriyadeepan.github.io/2016-12-31-practical-seq2seq/\n",
    "\n",
    "import tensorflow as tf\n",
    "import numpy as np\n",
    "from tensorflow.contrib import rnn\n",
    "import pprint\n",
    "pp = pprint.PrettyPrinter(indent=4)"
   ]
  },
  {
   "cell_type": "code",
   "execution_count": 2,
   "metadata": {
    "collapsed": false
   },
   "outputs": [
    {
     "name": "stdout",
     "output_type": "stream",
     "text": [
      "5 5\n",
      "array([[[-0.47360685, -0.49077907, -0.59324473, -0.80968446,  0.95318228]]], dtype=float32)\n"
     ]
    }
   ],
   "source": [
    "tf.reset_default_graph()\n",
    "sess = tf.InteractiveSession()\n",
    "\n",
    "# One cell RNN input_dim (3) -> output_dim (5)\n",
    "hidden_size = 5\n",
    "cell = tf.contrib.rnn.BasicRNNCell(num_units=hidden_size)\n",
    "print(cell.output_size, cell.state_size)\n",
    "\n",
    "x_data = np.array([[[1, 2, 3]]], dtype=np.float32)\n",
    "outputs, _states = tf.nn.dynamic_rnn(cell, x_data, dtype=tf.float32)\n",
    "\n",
    "sess.run(tf.global_variables_initializer())\n",
    "pp.pprint(outputs.eval())\n",
    "sess.close()"
   ]
  },
  {
   "cell_type": "code",
   "execution_count": 3,
   "metadata": {
    "collapsed": false
   },
   "outputs": [
    {
     "name": "stdout",
     "output_type": "stream",
     "text": [
      "array([[[-0.66892838, -0.90978724,  0.99134082, -0.19908188, -0.69907773],\n",
      "        [-0.82586318, -0.99585074,  0.99999833, -0.9550944 , -0.59060866]]], dtype=float32)\n"
     ]
    }
   ],
   "source": [
    "tf.reset_default_graph()\n",
    "sess = tf.InteractiveSession()\n",
    "\n",
    "# One cell RNN input_dim (3) -> output_dim (5). sequence: 2\n",
    "hidden_size = 5\n",
    "cell = tf.contrib.rnn.BasicRNNCell(num_units=hidden_size)\n",
    "x_data = np.array([[[1, 2, 3],\n",
    "                    [4, 5, 6]]], dtype=np.float32)\n",
    "outputs, states = tf.nn.dynamic_rnn(cell, x_data, dtype=tf.float32)\n",
    "sess.run(tf.global_variables_initializer())\n",
    "pp.pprint(outputs.eval())\n",
    "sess.close()"
   ]
  },
  {
   "cell_type": "code",
   "execution_count": 4,
   "metadata": {
    "collapsed": false
   },
   "outputs": [
    {
     "name": "stdout",
     "output_type": "stream",
     "text": [
      "array([[[ -2.56089836e-01,   1.71408668e-01,  -1.45856142e-01,\n",
      "           3.50203030e-02,   2.01694384e-01],\n",
      "        [  0.00000000e+00,   0.00000000e+00,   0.00000000e+00,\n",
      "           0.00000000e+00,   0.00000000e+00]],\n",
      "\n",
      "       [[ -4.78336141e-02,   2.44351238e-01,  -2.97077894e-01,\n",
      "           1.80373201e-03,   4.38719481e-01],\n",
      "        [ -6.20230287e-02,   2.24532843e-01,  -3.92552167e-01,\n",
      "           2.00625160e-03,   7.10222661e-01]],\n",
      "\n",
      "       [[ -4.94097546e-03,   1.87834799e-01,  -3.56861621e-01,\n",
      "           2.20259790e-05,   5.88683724e-01],\n",
      "        [  0.00000000e+00,   0.00000000e+00,   0.00000000e+00,\n",
      "           0.00000000e+00,   0.00000000e+00]]], dtype=float32)\n"
     ]
    }
   ],
   "source": [
    "tf.reset_default_graph()\n",
    "sess = tf.InteractiveSession()\n",
    "# One cell RNN input_dim (3) -> output_dim (5). sequence: 2\n",
    "cell = rnn.BasicLSTMCell(num_units=5, state_is_tuple=True)\n",
    "x_data = np.array([[[1, 2, 3],\n",
    "                    [4, 5, 6]],\n",
    "\n",
    "                   [[7, 8, 9],\n",
    "                    [10, 11, 12]],\n",
    "\n",
    "                   [[13, 14, 15],\n",
    "                    [16, 17, 18]], ], dtype=np.float32)\n",
    "outputs, _states = tf.nn.dynamic_rnn(\n",
    "    cell, x_data, sequence_length=[1,2,1], dtype=tf.float32)\n",
    "sess.run(tf.global_variables_initializer())\n",
    "pp.pprint(outputs.eval())\n",
    "sess.close()"
   ]
  },
  {
   "cell_type": "code",
   "execution_count": 5,
   "metadata": {
    "collapsed": false
   },
   "outputs": [
    {
     "name": "stdout",
     "output_type": "stream",
     "text": [
      "array([[[  4.84392643e-02,  -3.13782059e-02,   8.60535204e-02,\n",
      "          -4.40735444e-02,   2.98324555e-01],\n",
      "        [  2.71116942e-03,  -1.85060443e-03,   2.88982481e-01,\n",
      "          -6.42292295e-03,   5.30039310e-01]],\n",
      "\n",
      "       [[  1.94126387e-05,   1.76166609e-01,   2.34703779e-01,\n",
      "          -4.92287276e-04,   1.10681273e-01],\n",
      "        [  3.20592676e-07,   3.98451626e-01,   4.95123982e-01,\n",
      "          -4.43883036e-05,   1.57826379e-01]],\n",
      "\n",
      "       [[  2.79868351e-09,   3.71313363e-01,   2.49200687e-01,\n",
      "          -3.77055744e-06,   2.09293943e-02],\n",
      "        [  3.95419981e-11,   5.67828178e-01,   4.92595583e-01,\n",
      "          -3.39440106e-07,   2.89667398e-02]]], dtype=float32)\n"
     ]
    }
   ],
   "source": [
    "tf.reset_default_graph()\n",
    "sess = tf.InteractiveSession()\n",
    "# One cell RNN input_dim (3) -> output_dim (5). sequence: 2\n",
    "\n",
    "batch_size = 3\n",
    "cell = rnn.BasicLSTMCell(num_units=5, state_is_tuple=True)\n",
    "initial_state = cell.zero_state(batch_size, tf.float32)\n",
    "\n",
    "x_data = np.array([[[1, 2, 3],\n",
    "                    [4, 5, 6]],\n",
    "\n",
    "                   [[7, 8, 9],\n",
    "                    [10, 11, 12]],\n",
    "\n",
    "                   [[13, 14, 15],\n",
    "                    [16, 17, 18]], ], dtype=np.float32)\n",
    "outputs, _states = tf.nn.dynamic_rnn(cell, x_data,\n",
    "                                     initial_state=initial_state, dtype=tf.float32)\n",
    "sess.run(tf.global_variables_initializer())\n",
    "pp.pprint(outputs.eval())\n",
    "sess.close()"
   ]
  },
  {
   "cell_type": "code",
   "execution_count": 6,
   "metadata": {
    "collapsed": false
   },
   "outputs": [
    {
     "name": "stdout",
     "output_type": "stream",
     "text": [
      "array([[[  0.,   1.,   2.],\n",
      "        [  3.,   4.,   5.],\n",
      "        [  6.,   7.,   8.],\n",
      "        [  9.,  10.,  11.]],\n",
      "\n",
      "       [[ 12.,  13.,  14.],\n",
      "        [ 15.,  16.,  17.],\n",
      "        [ 18.,  19.,  20.],\n",
      "        [ 21.,  22.,  23.]]], dtype=float32)\n"
     ]
    }
   ],
   "source": [
    "tf.reset_default_graph()\n",
    "sess = tf.InteractiveSession()\n",
    "# Create input data\n",
    "x_data = np.arange(24, dtype=np.float32).reshape(2, 4, 3)\n",
    "pp.pprint(x_data)  # batch, sequence_length, input size"
   ]
  },
  {
   "cell_type": "code",
   "execution_count": 7,
   "metadata": {
    "collapsed": false
   },
   "outputs": [
    {
     "name": "stdout",
     "output_type": "stream",
     "text": [
      "dynamic rnn:  Tensor(\"rnn/transpose:0\", shape=(2, 4, 5), dtype=float32)\n",
      "array([[[-0.00034569, -0.00070532,  0.00043568,  0.00069213,  0.00085086],\n",
      "        [ 0.00170664, -0.00082707,  0.00185418, -0.00077598, -0.00035609],\n",
      "        [ 0.00705891,  0.00040856,  0.00350947, -0.00549153, -0.00428402],\n",
      "        [ 0.01491776,  0.00288426,  0.0046613 , -0.01214804, -0.00930375]],\n",
      "\n",
      "       [[ 0.0066977 ,  0.00251319,  0.00212484, -0.00621179, -0.00586229],\n",
      "        [ 0.01622089,  0.00602045,  0.0038038 , -0.01418692, -0.01209893],\n",
      "        [ 0.02632577,  0.01001449,  0.00443646, -0.02170778, -0.01691542],\n",
      "        [ 0.0357908 ,  0.01427082,  0.00417097, -0.02784121, -0.02004039]]], dtype=float32)\n"
     ]
    }
   ],
   "source": [
    "# Make rnn\n",
    "cell = rnn.BasicLSTMCell(num_units=5, state_is_tuple=True)\n",
    "cell = rnn.MultiRNNCell([cell] * 3, state_is_tuple=True)\n",
    "\n",
    "# rnn in/out\n",
    "outputs, _states = tf.nn.dynamic_rnn(cell, x_data, dtype=tf.float32)\n",
    "print(\"dynamic rnn: \", outputs)\n",
    "sess.run(tf.global_variables_initializer())\n",
    "pp.pprint(outputs.eval())  # batch size, unrolling (time), hidden_size"
   ]
  },
  {
   "cell_type": "code",
   "execution_count": 8,
   "metadata": {
    "collapsed": false
   },
   "outputs": [
    {
     "name": "stdout",
     "output_type": "stream",
     "text": [
      "dynamic rnn:  Tensor(\"rnn_1/transpose:0\", shape=(2, 4, 5), dtype=float32)\n",
      "array([[[  2.08606524e-03,  -3.55264395e-02,   8.31993893e-02,\n",
      "          -3.29029299e-02,   4.88560162e-02],\n",
      "        [  0.00000000e+00,   0.00000000e+00,   0.00000000e+00,\n",
      "           0.00000000e+00,   0.00000000e+00],\n",
      "        [  0.00000000e+00,   0.00000000e+00,   0.00000000e+00,\n",
      "           0.00000000e+00,   0.00000000e+00],\n",
      "        [  0.00000000e+00,   0.00000000e+00,   0.00000000e+00,\n",
      "           0.00000000e+00,   0.00000000e+00]],\n",
      "\n",
      "       [[  6.47814631e-01,  -1.61745623e-01,   6.02805929e-04,\n",
      "          -6.00308599e-03,   2.57990300e-03],\n",
      "        [  7.89284527e-01,  -3.44720364e-01,   5.33071987e-04,\n",
      "          -3.10120126e-03,   6.17182348e-04],\n",
      "        [  0.00000000e+00,   0.00000000e+00,   0.00000000e+00,\n",
      "           0.00000000e+00,   0.00000000e+00],\n",
      "        [  0.00000000e+00,   0.00000000e+00,   0.00000000e+00,\n",
      "           0.00000000e+00,   0.00000000e+00]]], dtype=float32)\n"
     ]
    }
   ],
   "source": [
    "cell = rnn.BasicLSTMCell(num_units=5, state_is_tuple=True)\n",
    "outputs, _states = tf.nn.dynamic_rnn(cell, x_data, dtype=tf.float32,\n",
    "                                     sequence_length=[1, 2])\n",
    "print(\"dynamic rnn: \", outputs)\n",
    "sess.run(tf.global_variables_initializer())\n",
    "pp.pprint(outputs.eval())  # batch size, unrolling (time), hidden_size\n",
    "sess.close()"
   ]
  },
  {
   "cell_type": "code",
   "execution_count": 9,
   "metadata": {
    "collapsed": false
   },
   "outputs": [
    {
     "name": "stdout",
     "output_type": "stream",
     "text": [
      "(   array([[[  2.30417088e-01,  -1.56091116e-02,  -1.05227932e-01,\n",
      "           1.00008920e-01,  -6.87071159e-02],\n",
      "        [  3.88323992e-01,  -2.48035818e-01,  -2.34708935e-01,\n",
      "           1.02263860e-01,  -1.30803376e-01],\n",
      "        [  0.00000000e+00,   0.00000000e+00,   0.00000000e+00,\n",
      "           0.00000000e+00,   0.00000000e+00],\n",
      "        [  0.00000000e+00,   0.00000000e+00,   0.00000000e+00,\n",
      "           0.00000000e+00,   0.00000000e+00]],\n",
      "\n",
      "       [[  1.96846272e-03,  -1.28378838e-01,  -7.41831213e-02,\n",
      "           2.21356186e-06,  -4.30520810e-02],\n",
      "        [  2.42746691e-03,  -8.88744667e-02,  -5.13007529e-02,\n",
      "           2.25100734e-06,  -3.24536823e-02],\n",
      "        [  2.52628908e-03,  -6.03847019e-02,  -2.98893023e-02,\n",
      "           2.18062837e-06,  -1.97081175e-02],\n",
      "        [  0.00000000e+00,   0.00000000e+00,   0.00000000e+00,\n",
      "           0.00000000e+00,   0.00000000e+00]]], dtype=float32),\n",
      "    array([[[ 0.52327591, -0.59075385, -0.46282047,  0.47981259, -0.45508054],\n",
      "        [ 0.45975351, -0.64006042, -0.24519533,  0.60819101, -0.55720669],\n",
      "        [ 0.        ,  0.        ,  0.        ,  0.        ,  0.        ],\n",
      "        [ 0.        ,  0.        ,  0.        ,  0.        ,  0.        ]],\n",
      "\n",
      "       [[ 0.63417053, -0.78893209, -0.05420766,  0.98768705, -0.99357218],\n",
      "        [ 0.59664565, -0.77103132, -0.02616686,  0.9616918 , -0.96080524],\n",
      "        [ 0.5771805 , -0.76158702, -0.00852979,  0.76098573, -0.75826931],\n",
      "        [ 0.        ,  0.        ,  0.        ,  0.        ,  0.        ]]], dtype=float32))\n",
      "(   LSTMStateTuple(c=array([[  4.26510572e-01,  -6.00146651e-01,  -3.33097816e-01,\n",
      "          2.00682372e-01,  -5.31849504e-01],\n",
      "       [  2.52629537e-03,  -9.63059306e-01,  -2.99258437e-02,\n",
      "          4.91002220e-06,  -2.78038812e+00]], dtype=float32), h=array([[  3.88323992e-01,  -2.48035818e-01,  -2.34708935e-01,\n",
      "          1.02263860e-01,  -1.30803376e-01],\n",
      "       [  2.52628908e-03,  -6.03847019e-02,  -2.98893023e-02,\n",
      "          2.18062837e-06,  -1.97081175e-02]], dtype=float32)),\n",
      "    LSTMStateTuple(c=array([[ 1.0298208 , -1.15413666, -1.09178042,  1.01538265, -0.85646468],\n",
      "       [ 0.75124764, -1.06862783, -2.99580812,  2.98832011, -2.87274623]], dtype=float32), h=array([[ 0.52327591, -0.59075385, -0.46282047,  0.47981259, -0.45508054],\n",
      "       [ 0.63417053, -0.78893209, -0.05420766,  0.98768705, -0.99357218]], dtype=float32)))\n"
     ]
    }
   ],
   "source": [
    "tf.reset_default_graph()\n",
    "sess = tf.InteractiveSession()\n",
    "# bi-directional rnn\n",
    "cell_fw = rnn.BasicLSTMCell(num_units=5, state_is_tuple=True)\n",
    "cell_bw = rnn.BasicLSTMCell(num_units=5, state_is_tuple=True)\n",
    "\n",
    "outputs, states = tf.nn.bidirectional_dynamic_rnn(cell_fw, cell_bw, x_data,\n",
    "                                                  sequence_length=[2, 3],\n",
    "                                                  dtype=tf.float32)\n",
    "\n",
    "sess.run(tf.global_variables_initializer())\n",
    "pp.pprint(sess.run(outputs))\n",
    "pp.pprint(sess.run(states))"
   ]
  },
  {
   "cell_type": "code",
   "execution_count": 10,
   "metadata": {
    "collapsed": false
   },
   "outputs": [
    {
     "name": "stdout",
     "output_type": "stream",
     "text": [
      "array([[  0.,   1.,   2.],\n",
      "       [  3.,   4.,   5.],\n",
      "       [  6.,   7.,   8.],\n",
      "       [  9.,  10.,  11.]], dtype=float32)\n",
      "array([[[   0.,    1.,    4.],\n",
      "        [   9.,   16.,   25.],\n",
      "        [  36.,   49.,   64.],\n",
      "        [  81.,  100.,  121.]],\n",
      "\n",
      "       [[   0.,   13.,   28.],\n",
      "        [  45.,   64.,   85.],\n",
      "        [ 108.,  133.,  160.],\n",
      "        [ 189.,  220.,  253.]]], dtype=float32)\n",
      "array([[[   1.,    3.,    7.],\n",
      "        [  10.,   18.,   28.],\n",
      "        [  37.,   51.,   67.],\n",
      "        [  82.,  102.,  124.]],\n",
      "\n",
      "       [[   1.,   15.,   31.],\n",
      "        [  46.,   66.,   88.],\n",
      "        [ 109.,  135.,  163.],\n",
      "        [ 190.,  222.,  256.]]])\n"
     ]
    }
   ],
   "source": [
    "# Broadcasting based softmax\n",
    "softmax_w = np.arange(12, dtype=np.float32).reshape(4, 3)\n",
    "outputs = x_data * softmax_w\n",
    "pp.pprint(softmax_w)\n",
    "pp.pprint(outputs)\n",
    "outputs = x_data * softmax_w + [1, 2, 3]\n",
    "pp.pprint(outputs)"
   ]
  },
  {
   "cell_type": "code",
   "execution_count": 11,
   "metadata": {
    "collapsed": false
   },
   "outputs": [
    {
     "name": "stdout",
     "output_type": "stream",
     "text": [
      "Loss1:  0.313262 Loss2:  1.31326 Loss3:  0.646595\n"
     ]
    }
   ],
   "source": [
    "# [batch_size, sequence_length, emb_dim ]\n",
    "prediction1 = tf.constant([[[0, 1], [0, 1], [0, 1]]], dtype=tf.float32)\n",
    "prediction2 = tf.constant([[[1, 0], [1, 0], [1, 0]]], dtype=tf.float32)\n",
    "prediction3 = tf.constant([[[0, 1], [1, 0], [0, 1]]], dtype=tf.float32)\n",
    "\n",
    "# [batch_size, sequence_length]\n",
    "y_data = tf.constant([[1, 1, 1]])\n",
    "\n",
    "# [batch_size * sequence_length]\n",
    "weights = tf.constant([[1, 1, 1]], dtype=tf.float32)\n",
    "\n",
    "sequence_loss1 = tf.contrib.seq2seq.sequence_loss(prediction1, y_data, weights)\n",
    "sequence_loss2 = tf.contrib.seq2seq.sequence_loss(prediction2, y_data, weights)\n",
    "sequence_loss3 = tf.contrib.seq2seq.sequence_loss(prediction3, y_data, weights)\n",
    "\n",
    "sess.run(tf.global_variables_initializer())\n",
    "print(\"Loss1: \", sequence_loss1.eval(),\n",
    "      \"Loss2: \", sequence_loss2.eval(),\n",
    "      \"Loss3: \", sequence_loss3.eval())"
   ]
  }
 ],
 "metadata": {
  "kernelspec": {
   "display_name": "Python 3",
   "language": "python",
   "name": "python3"
  },
  "language_info": {
   "codemirror_mode": {
    "name": "ipython",
    "version": 3
   },
   "file_extension": ".py",
   "mimetype": "text/x-python",
   "name": "python",
   "nbconvert_exporter": "python",
   "pygments_lexer": "ipython3",
   "version": "3.6.0"
  }
 },
 "nbformat": 4,
 "nbformat_minor": 0
}
