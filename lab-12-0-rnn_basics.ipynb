{
 "cells": [
  {
   "cell_type": "code",
   "execution_count": 1,
   "metadata": {
    "collapsed": true
   },
   "outputs": [],
   "source": [
    "# http://www.wildml.com/2016/08/rnns-in-tensorflow-a-practical-guide-and-undocumented-features/\n",
    "# http://learningtensorflow.com/index.html\n",
    "# http://suriyadeepan.github.io/2016-12-31-practical-seq2seq/\n",
    "\n",
    "import tensorflow as tf\n",
    "import numpy as np\n",
    "from tensorflow.contrib import rnn\n",
    "import pprint\n",
    "pp = pprint.PrettyPrinter(indent=4)"
   ]
  },
  {
   "cell_type": "code",
   "execution_count": 2,
   "metadata": {
    "collapsed": false
   },
   "outputs": [
    {
     "name": "stdout",
     "output_type": "stream",
     "text": [
      "5 5\n",
      "array([[[ 0.67206371,  0.65352339,  0.98913652,  0.96597087, -0.80571556]]], dtype=float32)\n"
     ]
    }
   ],
   "source": [
    "tf.reset_default_graph()\n",
    "sess = tf.InteractiveSession()\n",
    "\n",
    "# One cell RNN input_dim (3) -> output_dim (5)\n",
    "hidden_size = 5\n",
    "cell = tf.contrib.rnn.BasicRNNCell(num_units=hidden_size)\n",
    "print(cell.output_size, cell.state_size)\n",
    "\n",
    "x_data = np.array([[[1, 2, 3]]], dtype=np.float32)\n",
    "outputs, _states = tf.nn.dynamic_rnn(cell, x_data, dtype=tf.float32)\n",
    "\n",
    "sess.run(tf.global_variables_initializer())\n",
    "pp.pprint(outputs.eval())\n",
    "sess.close()"
   ]
  },
  {
   "cell_type": "code",
   "execution_count": 3,
   "metadata": {
    "collapsed": false
   },
   "outputs": [
    {
     "name": "stdout",
     "output_type": "stream",
     "text": [
      "array([[[-0.98075986,  0.90735137, -0.88604391,  0.68126518,  0.16285048],\n",
      "        [-0.99993587,  0.99957901, -0.99994498,  0.99769789, -0.28474009]]], dtype=float32)\n"
     ]
    }
   ],
   "source": [
    "tf.reset_default_graph()\n",
    "sess = tf.InteractiveSession()\n",
    "\n",
    "# One cell RNN input_dim (3) -> output_dim (5). sequence: 2\n",
    "hidden_size = 5\n",
    "cell = tf.contrib.rnn.BasicRNNCell(num_units=hidden_size)\n",
    "x_data = np.array([[[1, 2, 3],\n",
    "                    [4, 5, 6]]], dtype=np.float32)\n",
    "outputs, states = tf.nn.dynamic_rnn(cell, x_data, dtype=tf.float32)\n",
    "sess.run(tf.global_variables_initializer())\n",
    "pp.pprint(outputs.eval())\n",
    "sess.close()"
   ]
  },
  {
   "cell_type": "code",
   "execution_count": 4,
   "metadata": {
    "collapsed": false
   },
   "outputs": [
    {
     "name": "stdout",
     "output_type": "stream",
     "text": [
      "array([[[  3.96448374e-02,   3.68381441e-01,   3.53435464e-02,\n",
      "          -3.15800607e-02,  -5.11811912e-01],\n",
      "        [  0.00000000e+00,   0.00000000e+00,   0.00000000e+00,\n",
      "           0.00000000e+00,   0.00000000e+00]],\n",
      "\n",
      "       [[ -1.51261678e-02,   6.56784832e-01,   9.81306424e-04,\n",
      "          -1.28108586e-04,  -7.60237753e-01],\n",
      "        [ -1.32748885e-02,   7.33923078e-01,   8.47485935e-05,\n",
      "          -6.61454324e-05,  -8.26280653e-01]],\n",
      "\n",
      "       [[ -7.92227965e-03,   7.35501111e-01,   7.61512592e-06,\n",
      "          -3.26206532e-07,  -7.61585116e-01],\n",
      "        [  0.00000000e+00,   0.00000000e+00,   0.00000000e+00,\n",
      "           0.00000000e+00,   0.00000000e+00]]], dtype=float32)\n"
     ]
    }
   ],
   "source": [
    "tf.reset_default_graph()\n",
    "sess = tf.InteractiveSession()\n",
    "# One cell RNN input_dim (3) -> output_dim (5). sequence: 2\n",
    "cell = rnn.BasicLSTMCell(num_units=5, state_is_tuple=True)\n",
    "x_data = np.array([[[1, 2, 3],\n",
    "                    [4, 5, 6]],\n",
    "\n",
    "                   [[7, 8, 9],\n",
    "                    [10, 11, 12]],\n",
    "\n",
    "                   [[13, 14, 15],\n",
    "                    [16, 17, 18]], ], dtype=np.float32)\n",
    "outputs, _states = tf.nn.dynamic_rnn(\n",
    "    cell, x_data, sequence_length=[1,2,1], dtype=tf.float32)\n",
    "sess.run(tf.global_variables_initializer())\n",
    "pp.pprint(outputs.eval())\n",
    "sess.close()"
   ]
  },
  {
   "cell_type": "code",
   "execution_count": 5,
   "metadata": {
    "collapsed": false
   },
   "outputs": [
    {
     "name": "stdout",
     "output_type": "stream",
     "text": [
      "array([[[ -1.05524763e-01,  -6.84732646e-02,   2.12972298e-01,\n",
      "           5.02873659e-02,  -1.36999935e-02],\n",
      "        [ -3.27386558e-02,  -2.84101833e-02,   5.14315188e-01,\n",
      "           1.62311733e-01,  -1.27450482e-03]],\n",
      "\n",
      "       [[ -5.97264525e-03,  -1.34854077e-03,   3.82874131e-01,\n",
      "           6.76370859e-02,   1.54392375e-03],\n",
      "        [ -1.05463120e-03,  -1.19260148e-04,   6.51077747e-01,\n",
      "           3.96581888e-02,   6.61409809e-04]],\n",
      "\n",
      "       [[ -1.87620099e-04,  -9.06134119e-06,   4.20798212e-01,\n",
      "           8.92801397e-03,   5.10805585e-05],\n",
      "        [ -3.30030489e-05,  -6.07899210e-07,   7.00302601e-01,\n",
      "           3.74964345e-03,   2.02135179e-05]]], dtype=float32)\n"
     ]
    }
   ],
   "source": [
    "tf.reset_default_graph()\n",
    "sess = tf.InteractiveSession()\n",
    "# One cell RNN input_dim (3) -> output_dim (5). sequence: 2\n",
    "\n",
    "batch_size = 3\n",
    "cell = rnn.BasicLSTMCell(num_units=5, state_is_tuple=True)\n",
    "initial_state = cell.zero_state(batch_size, tf.float32)\n",
    "\n",
    "x_data = np.array([[[1, 2, 3],\n",
    "                    [4, 5, 6]],\n",
    "\n",
    "                   [[7, 8, 9],\n",
    "                    [10, 11, 12]],\n",
    "\n",
    "                   [[13, 14, 15],\n",
    "                    [16, 17, 18]], ], dtype=np.float32)\n",
    "outputs, _states = tf.nn.dynamic_rnn(cell, x_data,\n",
    "                                     initial_state=initial_state, dtype=tf.float32)\n",
    "sess.run(tf.global_variables_initializer())\n",
    "pp.pprint(outputs.eval())\n",
    "sess.close()"
   ]
  },
  {
   "cell_type": "code",
   "execution_count": 6,
   "metadata": {
    "collapsed": false
   },
   "outputs": [
    {
     "name": "stdout",
     "output_type": "stream",
     "text": [
      "array([[[  0.,   1.,   2.],\n",
      "        [  3.,   4.,   5.],\n",
      "        [  6.,   7.,   8.],\n",
      "        [  9.,  10.,  11.]],\n",
      "\n",
      "       [[ 12.,  13.,  14.],\n",
      "        [ 15.,  16.,  17.],\n",
      "        [ 18.,  19.,  20.],\n",
      "        [ 21.,  22.,  23.]]], dtype=float32)\n"
     ]
    }
   ],
   "source": [
    "tf.reset_default_graph()\n",
    "sess = tf.InteractiveSession()\n",
    "# Create input data\n",
    "x_data = np.arange(24, dtype=np.float32).reshape(2, 4, 3)\n",
    "pp.pprint(x_data)  # batch, sequence_length, input size"
   ]
  },
  {
   "cell_type": "code",
   "execution_count": 7,
   "metadata": {
    "collapsed": false
   },
   "outputs": [
    {
     "name": "stdout",
     "output_type": "stream",
     "text": [
      "dynamic rnn:  Tensor(\"rnn/transpose:0\", shape=(2, 4, 5), dtype=float32)\n",
      "array([[[-0.00136516, -0.00125313,  0.00230622, -0.0001321 , -0.00069181],\n",
      "        [-0.00264667, -0.0035607 ,  0.00355315,  0.00374622, -0.00570776],\n",
      "        [-0.00365446, -0.00849542,  0.00445551,  0.01487348, -0.01432846],\n",
      "        [-0.00639565, -0.01795833,  0.00789715,  0.03302194, -0.02343089]],\n",
      "\n",
      "       [[ 0.00017107, -0.00672182,  0.00344312,  0.01485206, -0.00282333],\n",
      "        [-0.00027203, -0.02135739,  0.00982386,  0.04159984, -0.00740837],\n",
      "        [-0.00281457, -0.04195821,  0.01899138,  0.0737903 , -0.01185923],\n",
      "        [-0.00803155, -0.06594773,  0.03017751,  0.10696599, -0.015134  ]]], dtype=float32)\n"
     ]
    }
   ],
   "source": [
    "# Make rnn\n",
    "cell = rnn.BasicLSTMCell(num_units=5, state_is_tuple=True)\n",
    "cell = rnn.MultiRNNCell([cell] * 3, state_is_tuple=True)\n",
    "\n",
    "# rnn in/out\n",
    "outputs, _states = tf.nn.dynamic_rnn(cell, x_data, dtype=tf.float32)\n",
    "print(\"dynamic rnn: \", outputs)\n",
    "sess.run(tf.global_variables_initializer())\n",
    "pp.pprint(outputs.eval())  # batch size, unrolling (time), hidden_size"
   ]
  },
  {
   "cell_type": "code",
   "execution_count": 8,
   "metadata": {
    "collapsed": false
   },
   "outputs": [
    {
     "name": "stdout",
     "output_type": "stream",
     "text": [
      "dynamic rnn:  Tensor(\"rnn_1/transpose:0\", shape=(2, 4, 5), dtype=float32)\n",
      "array([[[-0.06643986,  0.04374039, -0.00924233,  0.10854677,  0.15136461],\n",
      "        [ 0.        ,  0.        ,  0.        ,  0.        ,  0.        ],\n",
      "        [ 0.        ,  0.        ,  0.        ,  0.        ,  0.        ],\n",
      "        [ 0.        ,  0.        ,  0.        ,  0.        ,  0.        ]],\n",
      "\n",
      "       [[-0.02763105,  0.00894361,  0.0041775 ,  0.15297839,  0.0774397 ],\n",
      "        [-0.01809281,  0.01035907,  0.00145653,  0.1227403 ,  0.12365469],\n",
      "        [ 0.        ,  0.        ,  0.        ,  0.        ,  0.        ],\n",
      "        [ 0.        ,  0.        ,  0.        ,  0.        ,  0.        ]]], dtype=float32)\n"
     ]
    }
   ],
   "source": [
    "cell = rnn.BasicLSTMCell(num_units=5, state_is_tuple=True)\n",
    "outputs, _states = tf.nn.dynamic_rnn(cell, x_data, dtype=tf.float32,\n",
    "                                     sequence_length=[1, 2])\n",
    "print(\"dynamic rnn: \", outputs)\n",
    "sess.run(tf.global_variables_initializer())\n",
    "pp.pprint(outputs.eval())  # batch size, unrolling (time), hidden_size\n",
    "sess.close()"
   ]
  },
  {
   "cell_type": "code",
   "execution_count": 9,
   "metadata": {
    "collapsed": false
   },
   "outputs": [
    {
     "name": "stdout",
     "output_type": "stream",
     "text": [
      "(   array([[[  1.35668442e-01,  -7.58908018e-02,   3.20433378e-02,\n",
      "           1.11595333e-01,   6.78025186e-02],\n",
      "        [  8.42873529e-02,  -1.22437380e-01,   4.90654051e-01,\n",
      "           1.97011560e-01,   4.53755483e-02],\n",
      "        [  0.00000000e+00,   0.00000000e+00,   0.00000000e+00,\n",
      "           0.00000000e+00,   0.00000000e+00],\n",
      "        [  0.00000000e+00,   0.00000000e+00,   0.00000000e+00,\n",
      "           0.00000000e+00,   0.00000000e+00]],\n",
      "\n",
      "       [[  6.36829063e-05,  -2.89044157e-03,   7.53046095e-01,\n",
      "           1.19148783e-01,  -3.34614958e-03],\n",
      "        [  8.83828125e-06,  -2.62478366e-03,   7.67140090e-01,\n",
      "           1.16692930e-01,  -1.31387636e-03],\n",
      "        [  9.61140245e-07,  -1.66672072e-03,   7.64704943e-01,\n",
      "           8.83861855e-02,  -6.31130999e-04],\n",
      "        [  0.00000000e+00,   0.00000000e+00,   0.00000000e+00,\n",
      "           0.00000000e+00,   0.00000000e+00]]], dtype=float32),\n",
      "    array([[[  3.71433616e-01,  -8.10414627e-02,   2.56676912e-01,\n",
      "          -1.36370853e-01,   9.00438870e-04],\n",
      "        [  3.46767396e-01,  -7.17672259e-02,   2.24251673e-01,\n",
      "          -2.64323410e-02,   4.31691483e-03],\n",
      "        [  0.00000000e+00,   0.00000000e+00,   0.00000000e+00,\n",
      "           0.00000000e+00,   0.00000000e+00],\n",
      "        [  0.00000000e+00,   0.00000000e+00,   0.00000000e+00,\n",
      "           0.00000000e+00,   0.00000000e+00]],\n",
      "\n",
      "       [[  7.75836706e-01,  -3.64125185e-02,   2.19658226e-01,\n",
      "          -2.16643439e-05,   1.28476740e-05],\n",
      "        [  7.58828223e-01,  -1.51944393e-02,   1.88738778e-01,\n",
      "          -1.61127286e-06,   1.07185542e-06],\n",
      "        [  5.59411824e-01,  -5.34331286e-03,   1.49820432e-01,\n",
      "          -1.01627990e-07,   9.18002314e-08],\n",
      "        [  0.00000000e+00,   0.00000000e+00,   0.00000000e+00,\n",
      "           0.00000000e+00,   0.00000000e+00]]], dtype=float32))\n",
      "(   LSTMStateTuple(c=array([[  9.71465930e-02,  -2.36163259e-01,   6.02951884e-01,\n",
      "          6.11428916e-01,   7.75430873e-02],\n",
      "       [  9.63149091e-07,  -2.83711450e-03,   1.00751340e+00,\n",
      "          9.90485787e-01,  -1.63923786e-03]], dtype=float32), h=array([[  8.42873529e-02,  -1.22437380e-01,   4.90654051e-01,\n",
      "          1.97011560e-01,   4.53755483e-02],\n",
      "       [  9.61140245e-07,  -1.66672072e-03,   7.64704943e-01,\n",
      "          8.83861855e-02,  -6.31130999e-04]], dtype=float32)),\n",
      "    LSTMStateTuple(c=array([[  8.23344946e-01,  -1.40143335e-01,   6.81656659e-01,\n",
      "         -2.16062352e-01,   3.52166593e-03],\n",
      "       [  2.17883706e+00,  -2.34429145e+00,   9.90722954e-01,\n",
      "         -2.74547947e-05,   1.45539069e+00]], dtype=float32), h=array([[  3.71433616e-01,  -8.10414627e-02,   2.56676912e-01,\n",
      "         -1.36370853e-01,   9.00438870e-04],\n",
      "       [  7.75836706e-01,  -3.64125185e-02,   2.19658226e-01,\n",
      "         -2.16643439e-05,   1.28476740e-05]], dtype=float32)))\n"
     ]
    }
   ],
   "source": [
    "tf.reset_default_graph()\n",
    "sess = tf.InteractiveSession()\n",
    "# bi-directional rnn\n",
    "cell_fw = rnn.BasicLSTMCell(num_units=5, state_is_tuple=True)\n",
    "cell_bw = rnn.BasicLSTMCell(num_units=5, state_is_tuple=True)\n",
    "\n",
    "outputs, states = tf.nn.bidirectional_dynamic_rnn(cell_fw, cell_bw, x_data,\n",
    "                                                  sequence_length=[2, 3],\n",
    "                                                  dtype=tf.float32)\n",
    "\n",
    "sess.run(tf.global_variables_initializer())\n",
    "pp.pprint(sess.run(outputs))\n",
    "pp.pprint(sess.run(states))"
   ]
  },
  {
   "cell_type": "code",
   "execution_count": 10,
   "metadata": {
    "collapsed": false
   },
   "outputs": [
    {
     "name": "stdout",
     "output_type": "stream",
     "text": [
      "array([[  0.,   1.,   2.],\n",
      "       [  3.,   4.,   5.],\n",
      "       [  6.,   7.,   8.],\n",
      "       [  9.,  10.,  11.]], dtype=float32)\n",
      "array([[[   0.,    1.,    4.],\n",
      "        [   9.,   16.,   25.],\n",
      "        [  36.,   49.,   64.],\n",
      "        [  81.,  100.,  121.]],\n",
      "\n",
      "       [[   0.,   13.,   28.],\n",
      "        [  45.,   64.,   85.],\n",
      "        [ 108.,  133.,  160.],\n",
      "        [ 189.,  220.,  253.]]], dtype=float32)\n",
      "array([[[   1.,    3.,    7.],\n",
      "        [  10.,   18.,   28.],\n",
      "        [  37.,   51.,   67.],\n",
      "        [  82.,  102.,  124.]],\n",
      "\n",
      "       [[   1.,   15.,   31.],\n",
      "        [  46.,   66.,   88.],\n",
      "        [ 109.,  135.,  163.],\n",
      "        [ 190.,  222.,  256.]]])\n"
     ]
    }
   ],
   "source": [
    "# Broadcasting based softmax\n",
    "softmax_w = np.arange(12, dtype=np.float32).reshape(4, 3)\n",
    "outputs = x_data * softmax_w\n",
    "pp.pprint(softmax_w)\n",
    "pp.pprint(outputs)\n",
    "outputs = x_data * softmax_w + [1, 2, 3]\n",
    "pp.pprint(outputs)"
   ]
  },
  {
   "cell_type": "code",
   "execution_count": 11,
   "metadata": {
    "collapsed": false
   },
   "outputs": [
    {
     "name": "stdout",
     "output_type": "stream",
     "text": [
      "Loss1:  0.313262 Loss2:  1.31326 Loss3:  0.646595\n"
     ]
    }
   ],
   "source": [
    "# [batch_size, sequence_length, emb_dim ]\n",
    "prediction1 = tf.constant([[[0, 1], [0, 1], [0, 1]]], dtype=tf.float32)\n",
    "prediction2 = tf.constant([[[1, 0], [1, 0], [1, 0]]], dtype=tf.float32)\n",
    "prediction3 = tf.constant([[[0, 1], [1, 0], [0, 1]]], dtype=tf.float32)\n",
    "\n",
    "# [batch_size, sequence_length]\n",
    "y_data = tf.constant([[1, 1, 1]])\n",
    "\n",
    "# [batch_size * sequence_length]\n",
    "weights = tf.constant([[1, 1, 1]], dtype=tf.float32)\n",
    "\n",
    "sequence_loss1 = tf.contrib.seq2seq.sequence_loss(prediction1, y_data, weights)\n",
    "sequence_loss2 = tf.contrib.seq2seq.sequence_loss(prediction2, y_data, weights)\n",
    "sequence_loss3 = tf.contrib.seq2seq.sequence_loss(prediction3, y_data, weights)\n",
    "\n",
    "sess.run(tf.global_variables_initializer())\n",
    "print(\"Loss1: \", sequence_loss1.eval(),\n",
    "      \"Loss2: \", sequence_loss2.eval(),\n",
    "      \"Loss3: \", sequence_loss3.eval())"
   ]
  }
 ],
 "metadata": {
  "kernelspec": {
   "display_name": "Python 3",
   "language": "python",
   "name": "python3"
  },
  "language_info": {
   "codemirror_mode": {
    "name": "ipython",
    "version": 3
   },
   "file_extension": ".py",
   "mimetype": "text/x-python",
   "name": "python",
   "nbconvert_exporter": "python",
   "pygments_lexer": "ipython3",
   "version": "3.6.0"
  }
 },
 "nbformat": 4,
 "nbformat_minor": 0
}
