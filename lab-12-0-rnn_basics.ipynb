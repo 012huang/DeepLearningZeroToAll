{
 "cells": [
  {
   "cell_type": "code",
   "execution_count": 1,
   "metadata": {
    "collapsed": true
   },
   "outputs": [],
   "source": [
    "# http://www.wildml.com/2016/08/rnns-in-tensorflow-a-practical-guide-and-undocumented-features/\n",
    "# http://learningtensorflow.com/index.html\n",
    "# http://suriyadeepan.github.io/2016-12-31-practical-seq2seq/\n",
    "\n",
    "import tensorflow as tf\n",
    "import numpy as np\n",
    "from tensorflow.contrib import rnn\n",
    "import pprint\n",
    "pp = pprint.PrettyPrinter(indent=4)"
   ]
  },
  {
   "cell_type": "code",
   "execution_count": 2,
   "metadata": {
    "collapsed": false
   },
   "outputs": [
    {
     "name": "stdout",
     "output_type": "stream",
     "text": [
      "5 5\n",
      "array([[[ 0.12514158, -0.85017031,  0.71309912,  0.03091768,  0.85316288]]], dtype=float32)\n"
     ]
    }
   ],
   "source": [
    "tf.reset_default_graph()\n",
    "sess = tf.InteractiveSession()\n",
    "\n",
    "# One cell RNN input_dim (3) -> output_dim (5)\n",
    "hidden_size = 5\n",
    "cell = tf.contrib.rnn.BasicRNNCell(num_units=hidden_size)\n",
    "print(cell.output_size, cell.state_size)\n",
    "\n",
    "x_data = np.array([[[1, 2, 3]]], dtype=np.float32)\n",
    "outputs, _states = tf.nn.dynamic_rnn(cell, x_data, dtype=tf.float32)\n",
    "\n",
    "sess.run(tf.global_variables_initializer())\n",
    "pp.pprint(outputs.eval())\n",
    "sess.close()"
   ]
  },
  {
   "cell_type": "code",
   "execution_count": 3,
   "metadata": {
    "collapsed": false
   },
   "outputs": [
    {
     "name": "stdout",
     "output_type": "stream",
     "text": [
      "array([[[ 0.10406052, -0.5249666 ,  0.92754203, -0.93592882, -0.92667967],\n",
      "        [-0.56909806, -0.97837865,  0.9967671 , -0.99993688, -0.99961668]]], dtype=float32)\n"
     ]
    }
   ],
   "source": [
    "tf.reset_default_graph()\n",
    "sess = tf.InteractiveSession()\n",
    "\n",
    "# One cell RNN input_dim (3) -> output_dim (5). sequence: 2\n",
    "hidden_size = 5\n",
    "cell = tf.contrib.rnn.BasicRNNCell(num_units=hidden_size)\n",
    "x_data = np.array([[[1, 2, 3],\n",
    "                    [4, 5, 6]]], dtype=np.float32)\n",
    "outputs, states = tf.nn.dynamic_rnn(cell, x_data, dtype=tf.float32)\n",
    "sess.run(tf.global_variables_initializer())\n",
    "pp.pprint(outputs.eval())\n",
    "sess.close()"
   ]
  },
  {
   "cell_type": "code",
   "execution_count": 4,
   "metadata": {
    "collapsed": false
   },
   "outputs": [
    {
     "name": "stdout",
     "output_type": "stream",
     "text": [
      "array([[[ -1.89281225e-01,  -1.35549843e-01,   4.49652344e-01,\n",
      "          -8.63934755e-02,   2.45035127e-01],\n",
      "        [  0.00000000e+00,   0.00000000e+00,   0.00000000e+00,\n",
      "           0.00000000e+00,   0.00000000e+00]],\n",
      "\n",
      "       [[ -9.32960287e-02,  -4.47449461e-03,   6.99320793e-01,\n",
      "          -1.28612280e-01,   5.51817417e-01],\n",
      "        [ -4.36719432e-02,  -5.55863325e-03,   9.35384154e-01,\n",
      "          -1.25395089e-01,   8.74094665e-01]],\n",
      "\n",
      "       [[ -2.91416775e-02,  -1.08962704e-04,   7.35959411e-01,\n",
      "          -9.44481641e-02,   6.81338310e-01],\n",
      "        [  0.00000000e+00,   0.00000000e+00,   0.00000000e+00,\n",
      "           0.00000000e+00,   0.00000000e+00]]], dtype=float32)\n"
     ]
    }
   ],
   "source": [
    "tf.reset_default_graph()\n",
    "sess = tf.InteractiveSession()\n",
    "# One cell RNN input_dim (3) -> output_dim (5). sequence: 2\n",
    "cell = rnn.BasicLSTMCell(num_units=5, state_is_tuple=True)\n",
    "x_data = np.array([[[1, 2, 3],\n",
    "                    [4, 5, 6]],\n",
    "\n",
    "                   [[7, 8, 9],\n",
    "                    [10, 11, 12]],\n",
    "\n",
    "                   [[13, 14, 15],\n",
    "                    [16, 17, 18]], ], dtype=np.float32)\n",
    "outputs, _states = tf.nn.dynamic_rnn(\n",
    "    cell, x_data, sequence_length=[1,2,1], dtype=tf.float32)\n",
    "sess.run(tf.global_variables_initializer())\n",
    "pp.pprint(outputs.eval())\n",
    "sess.close()"
   ]
  },
  {
   "cell_type": "code",
   "execution_count": 5,
   "metadata": {
    "collapsed": false
   },
   "outputs": [
    {
     "name": "stdout",
     "output_type": "stream",
     "text": [
      "array([[[ -9.33315419e-03,   1.37675563e-02,  -4.86772433e-02,\n",
      "          -1.69695914e-02,   2.20286071e-01],\n",
      "        [ -3.43358633e-03,  -5.50280809e-02,  -9.33276583e-03,\n",
      "           2.18467321e-02,   4.00748491e-01]],\n",
      "\n",
      "       [[ -2.15095861e-05,  -5.14130257e-02,  -2.82033870e-04,\n",
      "           8.88978504e-03,   1.84698686e-01],\n",
      "        [ -3.24986604e-06,  -2.85751894e-02,  -4.61524760e-05,\n",
      "           2.65101274e-03,   3.17526817e-01]],\n",
      "\n",
      "       [[ -1.03909752e-08,  -1.13779102e-02,  -9.16522595e-07,\n",
      "           5.06423879e-04,   9.83619094e-02],\n",
      "        [ -7.08550218e-10,  -4.92142467e-03,  -1.53678755e-07,\n",
      "           1.12846312e-04,   1.69380605e-01]]], dtype=float32)\n"
     ]
    }
   ],
   "source": [
    "tf.reset_default_graph()\n",
    "sess = tf.InteractiveSession()\n",
    "# One cell RNN input_dim (3) -> output_dim (5). sequence: 2\n",
    "\n",
    "batch_size = 3\n",
    "cell = rnn.BasicLSTMCell(num_units=5, state_is_tuple=True)\n",
    "initial_state = cell.zero_state(batch_size, tf.float32)\n",
    "\n",
    "x_data = np.array([[[1, 2, 3],\n",
    "                    [4, 5, 6]],\n",
    "\n",
    "                   [[7, 8, 9],\n",
    "                    [10, 11, 12]],\n",
    "\n",
    "                   [[13, 14, 15],\n",
    "                    [16, 17, 18]], ], dtype=np.float32)\n",
    "outputs, _states = tf.nn.dynamic_rnn(cell, x_data,\n",
    "                                     initial_state=initial_state, dtype=tf.float32)\n",
    "sess.run(tf.global_variables_initializer())\n",
    "pp.pprint(outputs.eval())\n",
    "sess.close()"
   ]
  },
  {
   "cell_type": "code",
   "execution_count": 6,
   "metadata": {
    "collapsed": false
   },
   "outputs": [
    {
     "name": "stdout",
     "output_type": "stream",
     "text": [
      "array([[[  0.,   1.,   2.],\n",
      "        [  3.,   4.,   5.],\n",
      "        [  6.,   7.,   8.],\n",
      "        [  9.,  10.,  11.]],\n",
      "\n",
      "       [[ 12.,  13.,  14.],\n",
      "        [ 15.,  16.,  17.],\n",
      "        [ 18.,  19.,  20.],\n",
      "        [ 21.,  22.,  23.]]], dtype=float32)\n"
     ]
    }
   ],
   "source": [
    "tf.reset_default_graph()\n",
    "sess = tf.InteractiveSession()\n",
    "# Create input data\n",
    "x_data = np.arange(24, dtype=np.float32).reshape(2, 4, 3)\n",
    "pp.pprint(x_data)  # batch, sequence_length, input size"
   ]
  },
  {
   "cell_type": "code",
   "execution_count": 7,
   "metadata": {
    "collapsed": false
   },
   "outputs": [
    {
     "name": "stdout",
     "output_type": "stream",
     "text": [
      "dynamic rnn:  Tensor(\"rnn/transpose:0\", shape=(2, 4, 5), dtype=float32)\n",
      "array([[[-0.00459586, -0.00049015,  0.00231713,  0.00150267, -0.00309547],\n",
      "        [-0.01405779, -0.00275343,  0.00728929,  0.00569544, -0.00943902],\n",
      "        [-0.02541408, -0.00688672,  0.01274858,  0.01187734, -0.01676471],\n",
      "        [-0.03622811, -0.01255005,  0.01701238,  0.0190992 , -0.02300376]],\n",
      "\n",
      "       [[-0.00146927,  0.0005761 ,  0.00076853,  0.00075077, -0.00244083],\n",
      "        [-0.00370315,  0.00137755,  0.00149405,  0.00206371, -0.00615409],\n",
      "        [-0.00608444,  0.0020358 ,  0.00185139,  0.00371246, -0.01002057],\n",
      "        [-0.00822647,  0.00236944,  0.00178765,  0.00550162, -0.01337252]]], dtype=float32)\n"
     ]
    }
   ],
   "source": [
    "# Make rnn\n",
    "cell = rnn.BasicLSTMCell(num_units=5, state_is_tuple=True)\n",
    "cell = rnn.MultiRNNCell([cell] * 3, state_is_tuple=True)\n",
    "\n",
    "# rnn in/out\n",
    "outputs, _states = tf.nn.dynamic_rnn(cell, x_data, dtype=tf.float32)\n",
    "print(\"dynamic rnn: \", outputs)\n",
    "sess.run(tf.global_variables_initializer())\n",
    "pp.pprint(outputs.eval())  # batch size, unrolling (time), hidden_size"
   ]
  },
  {
   "cell_type": "code",
   "execution_count": 8,
   "metadata": {
    "collapsed": false
   },
   "outputs": [
    {
     "name": "stdout",
     "output_type": "stream",
     "text": [
      "dynamic rnn:  Tensor(\"rnn_1/transpose:0\", shape=(2, 4, 5), dtype=float32)\n",
      "array([[[ -8.16378146e-02,  -8.35597441e-02,  -8.39958861e-02,\n",
      "           2.73834332e-03,  -7.95639902e-02],\n",
      "        [  0.00000000e+00,   0.00000000e+00,   0.00000000e+00,\n",
      "           0.00000000e+00,   0.00000000e+00],\n",
      "        [  0.00000000e+00,   0.00000000e+00,   0.00000000e+00,\n",
      "           0.00000000e+00,   0.00000000e+00],\n",
      "        [  0.00000000e+00,   0.00000000e+00,   0.00000000e+00,\n",
      "           0.00000000e+00,   0.00000000e+00]],\n",
      "\n",
      "       [[ -1.31173534e-08,  -5.95647361e-05,  -1.94320809e-02,\n",
      "          -4.60592355e-06,   5.68799749e-02],\n",
      "        [ -1.53974222e-09,  -6.10628103e-06,  -9.22685955e-03,\n",
      "          -3.11785243e-07,   1.10334031e-01],\n",
      "        [ -1.62557925e-10,  -6.19913749e-07,  -4.28946177e-03,\n",
      "          -1.87093434e-08,   1.44816950e-01],\n",
      "        [  0.00000000e+00,   0.00000000e+00,   0.00000000e+00,\n",
      "           0.00000000e+00,   0.00000000e+00]]], dtype=float32)\n"
     ]
    }
   ],
   "source": [
    "cell = rnn.BasicLSTMCell(num_units=5, state_is_tuple=True)\n",
    "outputs, _states = tf.nn.dynamic_rnn(cell, x_data, dtype=tf.float32,\n",
    "                                     sequence_length=[1, 3]) # lentgh 1 for batch 1, lentgh 2 for batch 2\n",
    "print(\"dynamic rnn: \", outputs)\n",
    "sess.run(tf.global_variables_initializer())\n",
    "pp.pprint(outputs.eval())  # batch size, unrolling (time), hidden_size\n",
    "sess.close()"
   ]
  },
  {
   "cell_type": "code",
   "execution_count": 9,
   "metadata": {
    "collapsed": false
   },
   "outputs": [
    {
     "name": "stdout",
     "output_type": "stream",
     "text": [
      "(   array([[[  8.31724256e-02,  -1.90516692e-02,  -1.20053247e-01,\n",
      "           1.73350230e-01,  -2.21191987e-01],\n",
      "        [  3.95709813e-01,   3.11785251e-01,  -1.59265280e-01,\n",
      "           6.85954273e-01,  -4.07920510e-01],\n",
      "        [  0.00000000e+00,   0.00000000e+00,   0.00000000e+00,\n",
      "           0.00000000e+00,   0.00000000e+00],\n",
      "        [  0.00000000e+00,   0.00000000e+00,   0.00000000e+00,\n",
      "           0.00000000e+00,   0.00000000e+00]],\n",
      "\n",
      "       [[  6.45857632e-01,   3.68143737e-01,  -4.07030951e-04,\n",
      "           7.58043289e-01,  -1.89784449e-02],\n",
      "        [  8.58740807e-01,   4.98793900e-01,  -3.45722307e-04,\n",
      "           9.63332772e-01,  -2.57388130e-02],\n",
      "        [  9.17318940e-01,   4.97768909e-01,  -2.52985512e-04,\n",
      "           9.94926691e-01,  -2.32869536e-02],\n",
      "        [  0.00000000e+00,   0.00000000e+00,   0.00000000e+00,\n",
      "           0.00000000e+00,   0.00000000e+00]]], dtype=float32),\n",
      "    array([[[  8.28782916e-02,  -4.70337570e-02,   1.39396042e-01,\n",
      "           1.59858704e-01,  -3.74533027e-01],\n",
      "        [  7.75964409e-02,  -9.06135608e-03,   7.20473304e-02,\n",
      "          -2.23046474e-04,  -5.83956182e-01],\n",
      "        [  0.00000000e+00,   0.00000000e+00,   0.00000000e+00,\n",
      "           0.00000000e+00,   0.00000000e+00],\n",
      "        [  0.00000000e+00,   0.00000000e+00,   0.00000000e+00,\n",
      "           0.00000000e+00,   0.00000000e+00]],\n",
      "\n",
      "       [[  1.40000437e-03,   9.20125385e-05,   1.15322031e-01,\n",
      "          -1.45088969e-04,  -7.70904303e-01],\n",
      "        [  2.91586126e-04,   6.86122530e-06,   6.80397227e-02,\n",
      "          -1.85361605e-05,  -7.65152693e-01],\n",
      "        [  5.26625445e-05,  -2.91061582e-07,   2.21663117e-02,\n",
      "          -1.48185040e-06,  -7.61436641e-01],\n",
      "        [  0.00000000e+00,   0.00000000e+00,   0.00000000e+00,\n",
      "           0.00000000e+00,   0.00000000e+00]]], dtype=float32))\n",
      "(   LSTMStateTuple(c=array([[  6.03119254e-01,   5.32071352e-01,  -1.63053900e-01,\n",
      "          1.20070446e+00,  -5.10125756e-01],\n",
      "       [  2.83112597e+00,   2.30686831e+00,  -2.52985541e-04,\n",
      "          2.99619436e+00,  -2.32965797e-02]], dtype=float32), h=array([[  3.95709813e-01,   3.11785251e-01,  -1.59265280e-01,\n",
      "          6.85954273e-01,  -4.07920510e-01],\n",
      "       [  9.17318940e-01,   4.97768909e-01,  -2.52985512e-04,\n",
      "          9.94926691e-01,  -2.32869536e-02]], dtype=float32)),\n",
      "    LSTMStateTuple(c=array([[ 0.15212625, -0.11251277,  0.34359735,  0.37658453, -0.62722611],\n",
      "       [ 0.00141214,  0.18408459,  1.28626955, -0.0275439 , -1.02706242]], dtype=float32), h=array([[  8.28782916e-02,  -4.70337570e-02,   1.39396042e-01,\n",
      "          1.59858704e-01,  -3.74533027e-01],\n",
      "       [  1.40000437e-03,   9.20125385e-05,   1.15322031e-01,\n",
      "         -1.45088969e-04,  -7.70904303e-01]], dtype=float32)))\n"
     ]
    }
   ],
   "source": [
    "tf.reset_default_graph()\n",
    "sess = tf.InteractiveSession()\n",
    "# bi-directional rnn\n",
    "cell_fw = rnn.BasicLSTMCell(num_units=5, state_is_tuple=True)\n",
    "cell_bw = rnn.BasicLSTMCell(num_units=5, state_is_tuple=True)\n",
    "\n",
    "outputs, states = tf.nn.bidirectional_dynamic_rnn(cell_fw, cell_bw, x_data,\n",
    "                                                  sequence_length=[2, 3],\n",
    "                                                  dtype=tf.float32)\n",
    "\n",
    "sess.run(tf.global_variables_initializer())\n",
    "pp.pprint(sess.run(outputs))\n",
    "pp.pprint(sess.run(states))"
   ]
  },
  {
   "cell_type": "code",
   "execution_count": 10,
   "metadata": {
    "collapsed": false
   },
   "outputs": [
    {
     "name": "stdout",
     "output_type": "stream",
     "text": [
      "array([[[  0.,   1.,   2.],\n",
      "        [  3.,   4.,   5.],\n",
      "        [  6.,   7.,   8.],\n",
      "        [  9.,  10.,  11.]],\n",
      "\n",
      "       [[ 12.,  13.,  14.],\n",
      "        [ 15.,  16.,  17.],\n",
      "        [ 18.,  19.,  20.],\n",
      "        [ 21.,  22.,  23.]]], dtype=float32)\n",
      "array([[  0.,   1.,   2.],\n",
      "       [  3.,   4.,   5.],\n",
      "       [  6.,   7.,   8.],\n",
      "       [  9.,  10.,  11.],\n",
      "       [ 12.,  13.,  14.],\n",
      "       [ 15.,  16.,  17.],\n",
      "       [ 18.,  19.,  20.],\n",
      "       [ 21.,  22.,  23.]], dtype=float32)\n",
      "array([[[  25.,   28.,   31.,   34.,   37.],\n",
      "        [  70.,   82.,   94.,  106.,  118.],\n",
      "        [ 115.,  136.,  157.,  178.,  199.],\n",
      "        [ 160.,  190.,  220.,  250.,  280.]],\n",
      "\n",
      "       [[ 205.,  244.,  283.,  322.,  361.],\n",
      "        [ 250.,  298.,  346.,  394.,  442.],\n",
      "        [ 295.,  352.,  409.,  466.,  523.],\n",
      "        [ 340.,  406.,  472.,  538.,  604.]]], dtype=float32)\n"
     ]
    }
   ],
   "source": [
    "# flattern based softmax\n",
    "hidden_size=3\n",
    "sequence_length=4\n",
    "batch_size=2\n",
    "num_classes=5\n",
    "\n",
    "pp.pprint(x_data) # hidden_size=3, sequence_length=4, batch_size=2\n",
    "x_data = x_data.reshape(-1, hidden_size)\n",
    "pp.pprint(x_data)\n",
    "\n",
    "softmax_w = np.arange(15, dtype=np.float32).reshape(hidden_size, num_classes)\n",
    "outputs = np.matmul(x_data, softmax_w)\n",
    "outputs = outputs.reshape(-1, sequence_length, num_classes) # batch, seq, class\n",
    "pp.pprint(outputs)"
   ]
  },
  {
   "cell_type": "code",
   "execution_count": 11,
   "metadata": {
    "collapsed": false
   },
   "outputs": [
    {
     "name": "stdout",
     "output_type": "stream",
     "text": [
      "Loss1:  0.313262 Loss2:  1.31326 Loss3:  0.646595\n"
     ]
    }
   ],
   "source": [
    "# [batch_size, sequence_length, emb_dim ]\n",
    "prediction1 = tf.constant([[[0, 1], [0, 1], [0, 1]]], dtype=tf.float32)\n",
    "prediction2 = tf.constant([[[1, 0], [1, 0], [1, 0]]], dtype=tf.float32)\n",
    "prediction3 = tf.constant([[[0, 1], [1, 0], [0, 1]]], dtype=tf.float32)\n",
    "\n",
    "# [batch_size, sequence_length]\n",
    "y_data = tf.constant([[1, 1, 1]])\n",
    "\n",
    "# [batch_size * sequence_length]\n",
    "weights = tf.constant([[1, 1, 1]], dtype=tf.float32)\n",
    "\n",
    "sequence_loss1 = tf.contrib.seq2seq.sequence_loss(prediction1, y_data, weights)\n",
    "sequence_loss2 = tf.contrib.seq2seq.sequence_loss(prediction2, y_data, weights)\n",
    "sequence_loss3 = tf.contrib.seq2seq.sequence_loss(prediction3, y_data, weights)\n",
    "\n",
    "sess.run(tf.global_variables_initializer())\n",
    "print(\"Loss1: \", sequence_loss1.eval(),\n",
    "      \"Loss2: \", sequence_loss2.eval(),\n",
    "      \"Loss3: \", sequence_loss3.eval())"
   ]
  }
 ],
 "metadata": {
  "kernelspec": {
   "display_name": "Python 3",
   "language": "python",
   "name": "python3"
  },
  "language_info": {
   "codemirror_mode": {
    "name": "ipython",
    "version": 3
   },
   "file_extension": ".py",
   "mimetype": "text/x-python",
   "name": "python",
   "nbconvert_exporter": "python",
   "pygments_lexer": "ipython3",
   "version": "3.6.0"
  }
 },
 "nbformat": 4,
 "nbformat_minor": 0
}
